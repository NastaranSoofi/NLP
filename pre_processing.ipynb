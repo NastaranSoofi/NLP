{
  "cells": [
    {
      "cell_type": "code",
      "execution_count": 27,
      "id": "ranking-cardiff",
      "metadata": {
        "colab": {
          "base_uri": "https://localhost:8080/"
        },
        "id": "ranking-cardiff",
        "outputId": "5d51e7ff-f409-4df0-baf3-9696e05caa5c"
      },
      "outputs": [
        {
          "output_type": "stream",
          "name": "stdout",
          "text": [
            "Mounted at /content/drive\n"
          ]
        }
      ],
      "source": [
        "from google.colab import drive\n",
        "drive.mount('/content/drive')"
      ]
    },
    {
      "cell_type": "code",
      "source": [
        "!pip install pyspark"
      ],
      "metadata": {
        "id": "DGNkCXHVYWzz"
      },
      "id": "DGNkCXHVYWzz",
      "execution_count": null,
      "outputs": []
    },
    {
      "cell_type": "code",
      "source": [
        "from pyspark.conf import SparkConf\n",
        "from pyspark import SparkContext, SQLContext\n",
        "\n",
        "import pyspark.sql.functions as F\n",
        "import pyspark.sql.types as T\n",
        "\n",
        "from pyspark.sql import Row\n",
        "\n",
        "import pyspark"
      ],
      "metadata": {
        "id": "9Dr0U5JhXMO9"
      },
      "id": "9Dr0U5JhXMO9",
      "execution_count": 5,
      "outputs": []
    },
    {
      "cell_type": "code",
      "execution_count": 6,
      "id": "0750995d",
      "metadata": {
        "id": "0750995d"
      },
      "outputs": [],
      "source": [
        "import nltk\n",
        "# nltk.download('wordnet')"
      ]
    },
    {
      "cell_type": "markdown",
      "id": "pretty-structure",
      "metadata": {
        "id": "pretty-structure"
      },
      "source": [
        "# SPACY INIT\n"
      ]
    },
    {
      "cell_type": "code",
      "execution_count": null,
      "id": "congressional-timothy",
      "metadata": {
        "scrolled": true,
        "id": "congressional-timothy"
      },
      "outputs": [],
      "source": [
        "!pip install spacy"
      ]
    },
    {
      "cell_type": "code",
      "source": [
        "!pip install spacy_langdetect"
      ],
      "metadata": {
        "id": "lBbkVQ9QX9Wv"
      },
      "id": "lBbkVQ9QX9Wv",
      "execution_count": null,
      "outputs": []
    },
    {
      "cell_type": "code",
      "source": [
        "import spacy\n",
        "from spacy_langdetect import LanguageDetector\n",
        "from spacy.language import Language\n",
        "from spacy.matcher import PhraseMatcher"
      ],
      "metadata": {
        "id": "kYhDij6DXpEz"
      },
      "id": "kYhDij6DXpEz",
      "execution_count": 12,
      "outputs": []
    },
    {
      "cell_type": "code",
      "execution_count": 13,
      "id": "north-chosen",
      "metadata": {
        "colab": {
          "base_uri": "https://localhost:8080/"
        },
        "id": "north-chosen",
        "outputId": "8250a699-a0a7-4519-f1fc-161d70391dde"
      },
      "outputs": [
        {
          "output_type": "stream",
          "name": "stdout",
          "text": [
            "CPU times: user 527 ms, sys: 30.6 ms, total: 558 ms\n",
            "Wall time: 674 ms\n"
          ]
        }
      ],
      "source": [
        "%%time\n",
        "nlp_basic = spacy.load(\"en_core_web_sm\")"
      ]
    },
    {
      "cell_type": "code",
      "execution_count": 14,
      "id": "meaningful-terrorist",
      "metadata": {
        "id": "meaningful-terrorist"
      },
      "outputs": [],
      "source": [
        "def create_lang_detector(nlp, name):\n",
        "    return LanguageDetector()"
      ]
    },
    {
      "cell_type": "code",
      "execution_count": 15,
      "id": "sharing-computer",
      "metadata": {
        "colab": {
          "base_uri": "https://localhost:8080/"
        },
        "id": "sharing-computer",
        "outputId": "d69b7905-2287-49bb-b4c7-1a75530c4cfc"
      },
      "outputs": [
        {
          "output_type": "stream",
          "name": "stdout",
          "text": [
            "CPU times: user 431 µs, sys: 0 ns, total: 431 µs\n",
            "Wall time: 437 µs\n"
          ]
        },
        {
          "output_type": "execute_result",
          "data": {
            "text/plain": [
              "<function __main__.create_lang_detector(nlp, name)>"
            ]
          },
          "metadata": {},
          "execution_count": 15
        }
      ],
      "source": [
        "%%time\n",
        "Language.factory(\"language_detector\", func=create_lang_detector)"
      ]
    },
    {
      "cell_type": "code",
      "execution_count": 16,
      "id": "civic-disclosure",
      "metadata": {
        "colab": {
          "base_uri": "https://localhost:8080/"
        },
        "id": "civic-disclosure",
        "outputId": "1057308b-9851-40e9-d074-a972680eb2e9"
      },
      "outputs": [
        {
          "output_type": "stream",
          "name": "stdout",
          "text": [
            "CPU times: user 1.34 ms, sys: 49 µs, total: 1.39 ms\n",
            "Wall time: 1.39 ms\n"
          ]
        },
        {
          "output_type": "execute_result",
          "data": {
            "text/plain": [
              "<spacy_langdetect.spacy_langdetect.LanguageDetector at 0x7f57c985a160>"
            ]
          },
          "metadata": {},
          "execution_count": 16
        }
      ],
      "source": [
        "%%time\n",
        "nlp_basic.add_pipe('language_detector', last=True)"
      ]
    },
    {
      "cell_type": "code",
      "execution_count": 17,
      "id": "nonprofit-supply",
      "metadata": {
        "id": "nonprofit-supply"
      },
      "outputs": [],
      "source": [
        "doc = nlp_basic(\"I really like you I really like you\")"
      ]
    },
    {
      "cell_type": "code",
      "execution_count": 18,
      "id": "armed-dancing",
      "metadata": {
        "id": "armed-dancing"
      },
      "outputs": [],
      "source": [
        "language = doc._.language.get('language')"
      ]
    },
    {
      "cell_type": "code",
      "execution_count": 19,
      "id": "french-clark",
      "metadata": {
        "colab": {
          "base_uri": "https://localhost:8080/",
          "height": 38
        },
        "id": "french-clark",
        "outputId": "b90cff4c-1efd-496a-f279-729f34fe70c5"
      },
      "outputs": [
        {
          "output_type": "execute_result",
          "data": {
            "text/plain": [
              "'en'"
            ],
            "application/vnd.google.colaboratory.intrinsic+json": {
              "type": "string"
            }
          },
          "metadata": {},
          "execution_count": 19
        }
      ],
      "source": [
        "language"
      ]
    },
    {
      "cell_type": "markdown",
      "id": "occasional-killing",
      "metadata": {
        "id": "occasional-killing"
      },
      "source": [
        "## PYSPARK DF INIT"
      ]
    },
    {
      "cell_type": "code",
      "execution_count": 20,
      "id": "behavioral-morning",
      "metadata": {
        "colab": {
          "base_uri": "https://localhost:8080/",
          "height": 38
        },
        "id": "behavioral-morning",
        "outputId": "fca14a8d-5929-49c6-b671-afb0013807f0"
      },
      "outputs": [
        {
          "output_type": "execute_result",
          "data": {
            "text/plain": [
              "'3.3.1'"
            ],
            "application/vnd.google.colaboratory.intrinsic+json": {
              "type": "string"
            }
          },
          "metadata": {},
          "execution_count": 20
        }
      ],
      "source": [
        "pyspark.__version__"
      ]
    },
    {
      "cell_type": "code",
      "execution_count": 21,
      "id": "19915d1f",
      "metadata": {
        "id": "19915d1f"
      },
      "outputs": [],
      "source": [
        "master = \"local\"\n",
        "master = master + \"[*, 1000]\"\n",
        "\n",
        "\n",
        "conf = SparkConf().setAppName(\"klassifier\").setMaster(master).setAll([#('spark.executor.memory',      '8G'), \n",
        "\t\t\t\t\t\t\t\t\t\t\t\t\t\t\t\t\t\t\t#(\"spark.dynamicAllocation.enabled\",      \"true\"),\n",
        "\t\t\t\t\t\t\t\t\t\t\t\t\t\t\t\t\t\t\t#(\"spark.dynamicAllocation.minExecutors\", \"1\"),\n",
        "\t\t\t\t\t\t\t\t\t\t\t\t\t\t\t\t\t\t\t#(\"spark.dynamicAllocation.maxExecutors\", \"1\"),\n",
        "\t\t\t\t\t\t\t\t\t\t\t\t\t\t\t\t\t\t\t#(\"spark.executor.instances\",             \"4\"),\n",
        "\t\t\t\t\t\t\t\t\t\t\t\t\t\t\t\t\t\t\t#('spark.executor.cores',                 '4'), \n",
        "\t\t\t\t\t\t\t\t\t\t\t\t\t\t\t\t\t\t\t#('spark.cores.max',                      '4'), \n",
        "\t\t\t\t\t\t\t\t\t\t\t\t\t\t\t\t\t\t\t#('spark.driver.memory',                  '8G'), \n",
        "\t\t\t\t\t\t\t\t\t\t\t\t\t\t\t\t\t\t\t#('spark.driver.maxResultSize',           '5G'),\n",
        "\t\t\t\t\t\t\t\t\t\t\t\t\t\t\t\t\t\t\t#('spark.sql.execution.arrow.enabled',    arrowEnabled),\n",
        "\t\t\t\t\t\t\t\t\t\t\t\t\t\t\t\t\t\t\t('spark.sql.execution.arrow.pyspark.enabled', \"false\"),\n",
        "\t\t\t\t\t\t\t\t\t\t\t\t\t\t\t\t\t\t\t#('spark.logConf',                        'true'),\n",
        "\t\t\t\t\t\t\t\t\t\t\t\t\t\t\t\t\t\t\t#('spark.default.parallelism',            1),\n",
        "\t\t\t\t\t\t\t\t\t\t\t\t\t\t\t\t\t\t\t#('spark.sql.shuffle.partitions',         1),\n",
        "\t\t\t\t\t\t\t\t\t\t\t\t\t\t\t\t\t\t\t('spark.eventLog.enabled',               'false')\n",
        "\t\t\t\t\t\t\t\t\t\t\t\t\t\t\t\t\t\t\t])"
      ]
    },
    {
      "cell_type": "code",
      "execution_count": 22,
      "id": "seven-semester",
      "metadata": {
        "id": "seven-semester"
      },
      "outputs": [],
      "source": [
        "sc = SparkContext.getOrCreate();"
      ]
    },
    {
      "cell_type": "code",
      "execution_count": 23,
      "id": "frank-rapid",
      "metadata": {
        "colab": {
          "base_uri": "https://localhost:8080/"
        },
        "id": "frank-rapid",
        "outputId": "4e94ca08-8fe4-495f-933c-7548d64b25cc"
      },
      "outputs": [
        {
          "output_type": "stream",
          "name": "stderr",
          "text": [
            "/usr/local/lib/python3.8/dist-packages/pyspark/sql/context.py:112: FutureWarning: Deprecated in 3.0.0. Use SparkSession.builder.getOrCreate() instead.\n",
            "  warnings.warn(\n"
          ]
        }
      ],
      "source": [
        "sqlContext = SQLContext(sc)"
      ]
    },
    {
      "cell_type": "code",
      "execution_count": 24,
      "id": "gross-perfume",
      "metadata": {
        "id": "gross-perfume"
      },
      "outputs": [],
      "source": [
        "def readCSVFile(fileDelimeter, dataFileName, encoding = \"utf-8\") :\n",
        "\n",
        "\t\tfrom pyspark.storagelevel import StorageLevel\n",
        "\t\treturn sqlContext.read.option(\"delimiter\",\n",
        "\t\t\t\t\t\t\t\t\t\t\tfileDelimeter).option(\"encoding\", \n",
        "\t\t\t\t\t\t\t\t\t\t\t   \t\t\t\t\t\tencoding).csv(dataFileName, \n",
        "\t\t\t\t\t\t\t\t\t\t\t\t\t\t\t\t\t\t\t\t\theader = True, \n",
        "\t\t\t\t\t\t\t\t\t\t\t\t\t\t\t\t\t\t\t\t\tinferSchema = True)"
      ]
    },
    {
      "cell_type": "code",
      "execution_count": 25,
      "id": "helpful-banks",
      "metadata": {
        "id": "helpful-banks"
      },
      "outputs": [],
      "source": [
        "def convertToLowerCase(fullCozumData, featureColumnName):\n",
        "\n",
        "    fullCozumData = fullCozumData.withColumn('lower_body', F.lower(F.col(featureColumnName)))\n",
        "    fullCozumData = fullCozumData.drop(featureColumnName)\n",
        "    fullCozumData = fullCozumData.withColumnRenamed('lower_body', featureColumnName)\n",
        "\n",
        "    return fullCozumData     "
      ]
    },
    {
      "cell_type": "markdown",
      "id": "limiting-simple",
      "metadata": {
        "id": "limiting-simple"
      },
      "source": [
        "### PYSPARK READ FILE"
      ]
    },
    {
      "cell_type": "code",
      "execution_count": 30,
      "id": "overall-kuwait",
      "metadata": {
        "id": "overall-kuwait"
      },
      "outputs": [],
      "source": [
        "df = readCSVFile(\",\", \"/content/drive/My Drive/AI/Tweets_airline_Complain_Upload_Ready2.csv\", encoding = \"utf-8\")"
      ]
    },
    {
      "cell_type": "code",
      "execution_count": 31,
      "id": "93b95646",
      "metadata": {
        "colab": {
          "base_uri": "https://localhost:8080/"
        },
        "id": "93b95646",
        "outputId": "d1bef62d-7211-4025-c987-860019d276ad"
      },
      "outputs": [
        {
          "output_type": "stream",
          "name": "stdout",
          "text": [
            "+--------------------+--------------------+\n",
            "|      negativereason|                text|\n",
            "+--------------------+--------------------+\n",
            "|          Bad Flight|\"@VirginAmerica i...|\n",
            "|         Late Flight|@VirginAmerica SF...|\n",
            "|          Bad Flight|@VirginAmerica  I...|\n",
            "|Customer Service ...|@VirginAmerica yo...|\n",
            "|Customer Service ...|@VirginAmerica st...|\n",
            "|          Bad Flight|@VirginAmerica am...|\n",
            "|Flight Booking Pr...|@VirginAmerica hi...|\n",
            "|Customer Service ...|@VirginAmerica he...|\n",
            "|Customer Service ...|@VirginAmerica aw...|\n",
            "|Customer Service ...|@VirginAmerica Yo...|\n",
            "|Flight Booking Pr...|@VirginAmerica He...|\n",
            "|Flight Booking Pr...|@VirginAmerica hi...|\n",
            "|Customer Service ...|@VirginAmerica I ...|\n",
            "|Customer Service ...|@VirginAmerica he...|\n",
            "|         Late Flight|@VirginAmerica Hi...|\n",
            "|        Lost Luggage|@VirginAmerica ev...|\n",
            "|Flight Attendant ...|@VirginAmerica yo...|\n",
            "|Customer Service ...|@VirginAmerica wh...|\n",
            "|Customer Service ...|@VirginAmerica wh...|\n",
            "|         Late Flight|@VirginAmerica yo...|\n",
            "+--------------------+--------------------+\n",
            "only showing top 20 rows\n",
            "\n"
          ]
        }
      ],
      "source": [
        "df.show()"
      ]
    },
    {
      "cell_type": "code",
      "execution_count": 32,
      "id": "uniform-austria",
      "metadata": {
        "id": "uniform-austria"
      },
      "outputs": [],
      "source": [
        "featureColumnNames = ['text']"
      ]
    },
    {
      "cell_type": "code",
      "execution_count": 33,
      "id": "decimal-substitute",
      "metadata": {
        "id": "decimal-substitute"
      },
      "outputs": [],
      "source": [
        "labelColumnName = 'negativereason'"
      ]
    },
    {
      "cell_type": "code",
      "execution_count": 34,
      "id": "acoustic-chapter",
      "metadata": {
        "colab": {
          "base_uri": "https://localhost:8080/"
        },
        "id": "acoustic-chapter",
        "outputId": "4c3bc326-ef5a-483d-e664-0067e7330276"
      },
      "outputs": [
        {
          "output_type": "stream",
          "name": "stdout",
          "text": [
            "+----+--------------+\n",
            "|text|negativereason|\n",
            "+----+--------------+\n",
            "|  52|             0|\n",
            "+----+--------------+\n",
            "\n"
          ]
        }
      ],
      "source": [
        "df.select([F.count(F.when(F.isnull(c), c)).alias(c) for c in featureColumnNames + [labelColumnName]]).show()\n"
      ]
    },
    {
      "cell_type": "code",
      "execution_count": 35,
      "id": "pacific-thomas",
      "metadata": {
        "id": "pacific-thomas"
      },
      "outputs": [],
      "source": [
        "df= df.select(featureColumnNames  + [labelColumnName]).replace('?', None).dropna(how='any') # clean null rows, this will be replaced to somewhere else."
      ]
    },
    {
      "cell_type": "code",
      "execution_count": 36,
      "id": "alive-powder",
      "metadata": {
        "colab": {
          "base_uri": "https://localhost:8080/"
        },
        "id": "alive-powder",
        "outputId": "2730b5d2-1b51-4722-e041-ae139f4ecf02"
      },
      "outputs": [
        {
          "output_type": "stream",
          "name": "stdout",
          "text": [
            "+--------------------+--------------------+\n",
            "|                text|      negativereason|\n",
            "+--------------------+--------------------+\n",
            "|\"@VirginAmerica i...|          Bad Flight|\n",
            "|@VirginAmerica SF...|         Late Flight|\n",
            "|@VirginAmerica  I...|          Bad Flight|\n",
            "|@VirginAmerica yo...|Customer Service ...|\n",
            "|@VirginAmerica st...|Customer Service ...|\n",
            "+--------------------+--------------------+\n",
            "only showing top 5 rows\n",
            "\n"
          ]
        }
      ],
      "source": [
        "df.show(5)"
      ]
    },
    {
      "cell_type": "code",
      "execution_count": 37,
      "id": "relevant-society",
      "metadata": {
        "colab": {
          "base_uri": "https://localhost:8080/"
        },
        "id": "relevant-society",
        "outputId": "9016a8b3-5d5f-4878-e655-35ff0713ae7b"
      },
      "outputs": [
        {
          "output_type": "execute_result",
          "data": {
            "text/plain": [
              "[('text', 'string'), ('negativereason', 'string')]"
            ]
          },
          "metadata": {},
          "execution_count": 37
        }
      ],
      "source": [
        "df.dtypes"
      ]
    },
    {
      "cell_type": "code",
      "execution_count": 38,
      "id": "prerequisite-divide",
      "metadata": {
        "id": "prerequisite-divide"
      },
      "outputs": [],
      "source": [
        "for column in featureColumnNames + [labelColumnName]:\n",
        "    df = convertToLowerCase(df, column)"
      ]
    },
    {
      "cell_type": "code",
      "execution_count": 39,
      "id": "ordered-racing",
      "metadata": {
        "colab": {
          "base_uri": "https://localhost:8080/"
        },
        "id": "ordered-racing",
        "outputId": "9152a28f-892f-4b22-82cd-98663270a383"
      },
      "outputs": [
        {
          "output_type": "execute_result",
          "data": {
            "text/plain": [
              "[('text', 'string'), ('negativereason', 'string')]"
            ]
          },
          "metadata": {},
          "execution_count": 39
        }
      ],
      "source": [
        "df.dtypes"
      ]
    },
    {
      "cell_type": "code",
      "execution_count": 40,
      "id": "cardiovascular-healing",
      "metadata": {
        "colab": {
          "base_uri": "https://localhost:8080/"
        },
        "id": "cardiovascular-healing",
        "outputId": "fda267bd-dfc3-4997-f33a-1d35b579683f"
      },
      "outputs": [
        {
          "output_type": "stream",
          "name": "stdout",
          "text": [
            "+--------------------+--------------------+\n",
            "|                text|      negativereason|\n",
            "+--------------------+--------------------+\n",
            "|\"@virginamerica i...|          bad flight|\n",
            "|@virginamerica sf...|         late flight|\n",
            "|@virginamerica  i...|          bad flight|\n",
            "|@virginamerica yo...|customer service ...|\n",
            "|@virginamerica st...|customer service ...|\n",
            "+--------------------+--------------------+\n",
            "only showing top 5 rows\n",
            "\n"
          ]
        }
      ],
      "source": [
        "df.show(5)"
      ]
    },
    {
      "cell_type": "code",
      "execution_count": 41,
      "id": "juvenile-wallpaper",
      "metadata": {
        "id": "juvenile-wallpaper"
      },
      "outputs": [],
      "source": [
        "from pyspark.ml.feature import StringIndexer\n",
        "\n",
        "df = StringIndexer(\n",
        "    inputCol= labelColumnName, \n",
        "    outputCol='label', \n",
        "    handleInvalid='keep').fit(df).transform(df)\n",
        "\n",
        "\n",
        "df = df.drop(labelColumnName)\n",
        "labelColumnName = 'label'"
      ]
    },
    {
      "cell_type": "code",
      "execution_count": 42,
      "id": "western-taylor",
      "metadata": {
        "id": "western-taylor"
      },
      "outputs": [],
      "source": [
        "import pyspark.sql.functions as F\n",
        "import pyspark.sql.types as T"
      ]
    },
    {
      "cell_type": "code",
      "execution_count": 43,
      "id": "rocky-mission",
      "metadata": {
        "id": "rocky-mission"
      },
      "outputs": [],
      "source": [
        "NLP = None\n",
        "MATCHER = None"
      ]
    },
    {
      "cell_type": "code",
      "execution_count": 44,
      "id": "finished-bullet",
      "metadata": {
        "id": "finished-bullet"
      },
      "outputs": [],
      "source": [
        "stop_words = set(\"\"\"th nd rd st a b c d e f g h i j k l m n o p q r s t u v w x y z\"\"\".split())"
      ]
    },
    {
      "cell_type": "code",
      "execution_count": 45,
      "id": "vertical-carter",
      "metadata": {
        "id": "vertical-carter"
      },
      "outputs": [],
      "source": [
        "def get_spacy(lang):\n",
        "    global NLP\n",
        "    if NLP is None:\n",
        "        NLP = {}\n",
        "    if lang not in NLP:\n",
        "\n",
        "        if lang == 'en':\n",
        "            nlp = spacy.load('en_core_web_sm', disable=['ner', 'parser'])\n",
        "            nlp.Defaults.stop_words |= stop_words\n",
        "        else:\n",
        "            nlp = spacy.blank(lang)\n",
        "            nlp.add_pipe(\"lemmatizer\")\n",
        "            nlp.initialize()\n",
        "\n",
        "        NLP[lang] = nlp\n",
        "\n",
        "    return NLP[lang]    "
      ]
    },
    {
      "cell_type": "code",
      "execution_count": 46,
      "id": "atomic-nowhere",
      "metadata": {
        "id": "atomic-nowhere"
      },
      "outputs": [],
      "source": [
        "def get_matcher(terms):\n",
        "    global MATCHER\n",
        "\n",
        "    nlp = get_spacy('en')\n",
        "    if MATCHER is None:\n",
        "        MATCHER = PhraseMatcher(nlp.vocab, attr='LEMMA')\n",
        "        patterns = [nlp(text) for text in terms]\n",
        "        MATCHER.add(\"list: \", patterns)\n",
        "\n",
        "    return MATCHER"
      ]
    },
    {
      "cell_type": "code",
      "execution_count": 47,
      "id": "charming-poster",
      "metadata": {
        "colab": {
          "base_uri": "https://localhost:8080/"
        },
        "id": "charming-poster",
        "outputId": "a7030c9e-8301-4288-fd23-fd57e4792b2f"
      },
      "outputs": [
        {
          "output_type": "stream",
          "name": "stdout",
          "text": [
            "CPU times: user 5 µs, sys: 0 ns, total: 5 µs\n",
            "Wall time: 8.34 µs\n"
          ]
        }
      ],
      "source": [
        "%%time\n",
        "def spacy_noun_lemmatize_matcher(lang, terms):\n",
        "    def nounLemmatizerMatcher(text):\n",
        "        nlp = get_spacy(lang)\n",
        "        matcher = get_matcher(terms)\n",
        "        result = []\n",
        "        if (text is not None and len(text) > 0):\n",
        "            doc = nlp(text)\n",
        "            matches = matcher(doc)\n",
        "            for match in matches:\n",
        "                match_id, start, end = match\n",
        "                tmp = doc[start:end].lemma_\n",
        "                if tmp not in result :\n",
        "                    result.append(tmp)    \n",
        "            result = result + [token.lemma_ for token in doc if token.pos_ == \"NOUN\" and token.lemma_ not in result  and token.is_stop == False  ]         \n",
        "        else:\n",
        "            result.append(\"\")\n",
        "\n",
        "        return result\n",
        "\n",
        "    return F.udf(nounLemmatizerMatcher, T.ArrayType(T.StringType()))"
      ]
    },
    {
      "cell_type": "code",
      "execution_count": 48,
      "id": "gorgeous-therapist",
      "metadata": {
        "id": "gorgeous-therapist"
      },
      "outputs": [],
      "source": [
        "import os\n",
        "def nounLemmatizeMatcher(df, labelColumn, inputCols, encoding, terms):\n",
        "    print(\"tokenize 1\")\n",
        " \n",
        "    outputCols = []\n",
        "    for inputCol in inputCols:\n",
        "\n",
        "        outputCol = inputCol + \"_root_words\"\n",
        "\n",
        "        df = df.withColumn(outputCol, spacy_noun_lemmatize_matcher('en', terms)(F.col(inputCol)))\n",
        "        print(\"tokenize 2\")\n",
        "        \n",
        "        df = df.drop(inputCol)\n",
        "        print(\"tokenize 3\")\n",
        "\n",
        "        outputCols.append(outputCol)\n",
        "\n",
        "    return df, outputCols"
      ]
    },
    {
      "cell_type": "code",
      "source": [
        "!pip install en-pattern-list"
      ],
      "metadata": {
        "colab": {
          "base_uri": "https://localhost:8080/"
        },
        "id": "63B42vP8jbsT",
        "outputId": "d62a0235-4322-4891-920c-54df0d0e2502"
      },
      "id": "63B42vP8jbsT",
      "execution_count": 54,
      "outputs": [
        {
          "output_type": "stream",
          "name": "stdout",
          "text": [
            "Looking in indexes: https://pypi.org/simple, https://us-python.pkg.dev/colab-wheels/public/simple/\n",
            "\u001b[31mERROR: Could not find a version that satisfies the requirement en-pattern-list (from versions: none)\u001b[0m\n",
            "\u001b[31mERROR: No matching distribution found for en-pattern-list\u001b[0m\n"
          ]
        }
      ]
    },
    {
      "cell_type": "code",
      "execution_count": 55,
      "id": "48ec2c01",
      "metadata": {
        "id": "48ec2c01"
      },
      "outputs": [],
      "source": [
        "with open('/content/drive/My Drive/AI/en-pattern-list') as f:\n",
        "    patterns = [trm.rstrip() for trm in f]"
      ]
    },
    {
      "cell_type": "code",
      "execution_count": 56,
      "id": "maritime-physics",
      "metadata": {
        "scrolled": false,
        "colab": {
          "base_uri": "https://localhost:8080/"
        },
        "id": "maritime-physics",
        "outputId": "d60ca0ea-e0b7-4b9a-a424-aaf1b8ece08a"
      },
      "outputs": [
        {
          "output_type": "execute_result",
          "data": {
            "text/plain": [
              "['itching',\n",
              " 'skin rash',\n",
              " 'nodal skin eruptions',\n",
              " 'dischromic  patches',\n",
              " 'continuous sneezing',\n",
              " 'shivering chills',\n",
              " 'watering from eyes',\n",
              " 'chills',\n",
              " 'stomach pain',\n",
              " 'ulcers on tongue',\n",
              " 'chest pain',\n",
              " 'yellowish skin',\n",
              " 'loss of appetite',\n",
              " 'abdominal pain',\n",
              " 'yellowing of eyes',\n",
              " 'passage of gases internal',\n",
              " 'passage of gases',\n",
              " 'patches in throat',\n",
              " 'high fever',\n",
              " 'indigestion internal',\n",
              " 'muscle wasting',\n",
              " 'extra marital contacts',\n",
              " 'weight loss',\n",
              " 'irregular sugar level',\n",
              " 'blurred and distorted vision',\n",
              " 'excessive hunger',\n",
              " 'increased appetite',\n",
              " 'sunken eyes',\n",
              " 'mucoid sputum',\n",
              " 'lack of concentration',\n",
              " 'family history',\n",
              " 'stiff neck depression',\n",
              " 'dizziness',\n",
              " 'headache',\n",
              " 'breathlessness',\n",
              " 'cough',\n",
              " 'fatigue',\n",
              " 'vomiting',\n",
              " 'diarrhoea',\n",
              " 'dehydration',\n",
              " 'chills',\n",
              " 'shivering',\n",
              " 'acidity',\n",
              " 'nausea',\n",
              " 'burning micturition',\n",
              " 'spotting',\n",
              " 'urination',\n",
              " 'indigestion',\n",
              " 'restlessness',\n",
              " 'lethargy',\n",
              " 'obesity',\n",
              " 'irritability',\n",
              " 'visual disturbances',\n",
              " 'depression',\n",
              " 'stiff neck',\n",
              " 'back pain',\n",
              " 'weakness in limbs',\n",
              " 'neck pain',\n",
              " 'weakness of one body side',\n",
              " 'altered sensorium',\n",
              " 'dark urine',\n",
              " 'muscle pain',\n",
              " 'sweating',\n",
              " 'mild fever',\n",
              " 'swelled lymph nodes',\n",
              " 'joint pain',\n",
              " 'constipation',\n",
              " 'yellow urine',\n",
              " 'swelling of stomach',\n",
              " 'distention of abdomen',\n",
              " 'history of alcohol consumption',\n",
              " 'malaise',\n",
              " 'phlegm',\n",
              " 'pain during bowel movements',\n",
              " 'pain in anal region',\n",
              " 'bloody stool',\n",
              " 'irritation in anus',\n",
              " 'cramps',\n",
              " 'bruising',\n",
              " 'swollen legs',\n",
              " 'swollen blood vessels',\n",
              " 'prominent veins on calf',\n",
              " 'weight gain',\n",
              " 'cold hands and feets',\n",
              " 'mood swings',\n",
              " 'puffy face and eyes',\n",
              " 'enlarged thyroid',\n",
              " 'brittle nails',\n",
              " 'fast heart rate',\n",
              " 'muscle weakness',\n",
              " 'anxiety',\n",
              " 'drying and tingling lips',\n",
              " 'hip joint pain',\n",
              " 'knee pain',\n",
              " 'swelling joints',\n",
              " 'painful walking',\n",
              " 'stiff neck movement',\n",
              " 'movement stiffness',\n",
              " 'spinning movements',\n",
              " 'unsteadiness',\n",
              " 'pus filled pimples',\n",
              " 'blackheads scurring',\n",
              " 'blackheads',\n",
              " 'scurring',\n",
              " 'bladder discomfort',\n",
              " 'foul smell of urine',\n",
              " 'continuous feel of urine',\n",
              " 'skin peeling',\n",
              " 'small dents in nails',\n",
              " 'inflammatory nails',\n",
              " 'silver like dusting',\n",
              " 'blister red',\n",
              " 'sore around nose',\n",
              " 'yellow crust ooze',\n",
              " 'red sore around nose',\n",
              " 'blister yellow',\n",
              " 'joints movement stiffness']"
            ]
          },
          "metadata": {},
          "execution_count": 56
        }
      ],
      "source": [
        "patterns"
      ]
    },
    {
      "cell_type": "code",
      "execution_count": 57,
      "id": "certified-canal",
      "metadata": {
        "scrolled": true,
        "colab": {
          "base_uri": "https://localhost:8080/"
        },
        "id": "certified-canal",
        "outputId": "ba89f9d2-79fd-42de-9817-c96edaf5959b"
      },
      "outputs": [
        {
          "output_type": "stream",
          "name": "stdout",
          "text": [
            "tokenize 1\n",
            "tokenize 2\n",
            "tokenize 3\n",
            "CPU times: user 14.3 ms, sys: 1.52 ms, total: 15.8 ms\n",
            "Wall time: 79.6 ms\n"
          ]
        }
      ],
      "source": [
        "%%time\n",
        "tokenized_df, featureColumnNames = nounLemmatizeMatcher(df\t\t\t= df, \n",
        "                                                        labelColumn = labelColumnName, \n",
        "                                                        inputCols\t= featureColumnNames, \n",
        "                                                        encoding\t= 'utf-8', \n",
        "                                                        terms\t\t= patterns) #TERMS(pattern) should be loaded from file..!!"
      ]
    },
    {
      "cell_type": "code",
      "execution_count": 58,
      "id": "11790c59",
      "metadata": {
        "id": "11790c59"
      },
      "outputs": [],
      "source": [
        "pandasDF = tokenized_df.toPandas()\n",
        "compression_opts = dict(method='zip',archive_name='out.csv')  \n",
        "pandasDF.to_csv('out.zip', index=False, compression=compression_opts) "
      ]
    },
    {
      "cell_type": "code",
      "execution_count": 59,
      "id": "d8b6e924",
      "metadata": {
        "colab": {
          "base_uri": "https://localhost:8080/",
          "height": 424
        },
        "id": "d8b6e924",
        "outputId": "5313b954-5267-4b0f-9b66-9fc8fbcb0a98"
      },
      "outputs": [
        {
          "output_type": "execute_result",
          "data": {
            "text/plain": [
              "      label                                    text_root_words\n",
              "0       4.0             [entertainment, guest, face, recourse]\n",
              "1       1.0                                    [pdx, schedule]\n",
              "2       4.0                            [week, seat, gentleman]\n",
              "3       0.0  [guy, seating, seating, friend, guy, seat, int...\n",
              "4       0.0           [status, match, program, week, response]\n",
              "...     ...                                                ...\n",
              "7992    4.0                                   [country, plane]\n",
              "7993    2.0   [flight, tomorrow, morning, auto, night, flight]\n",
              "7994    1.0                                       [cue, delay]\n",
              "7995    0.0  [minute, flight, warning, communication, minut...\n",
              "7996    0.0     [money, flight, phone, suggestion, commitment]\n",
              "\n",
              "[7997 rows x 2 columns]"
            ],
            "text/html": [
              "\n",
              "  <div id=\"df-a393edb8-2d51-4800-84c1-0bfd6abfbdf0\">\n",
              "    <div class=\"colab-df-container\">\n",
              "      <div>\n",
              "<style scoped>\n",
              "    .dataframe tbody tr th:only-of-type {\n",
              "        vertical-align: middle;\n",
              "    }\n",
              "\n",
              "    .dataframe tbody tr th {\n",
              "        vertical-align: top;\n",
              "    }\n",
              "\n",
              "    .dataframe thead th {\n",
              "        text-align: right;\n",
              "    }\n",
              "</style>\n",
              "<table border=\"1\" class=\"dataframe\">\n",
              "  <thead>\n",
              "    <tr style=\"text-align: right;\">\n",
              "      <th></th>\n",
              "      <th>label</th>\n",
              "      <th>text_root_words</th>\n",
              "    </tr>\n",
              "  </thead>\n",
              "  <tbody>\n",
              "    <tr>\n",
              "      <th>0</th>\n",
              "      <td>4.0</td>\n",
              "      <td>[entertainment, guest, face, recourse]</td>\n",
              "    </tr>\n",
              "    <tr>\n",
              "      <th>1</th>\n",
              "      <td>1.0</td>\n",
              "      <td>[pdx, schedule]</td>\n",
              "    </tr>\n",
              "    <tr>\n",
              "      <th>2</th>\n",
              "      <td>4.0</td>\n",
              "      <td>[week, seat, gentleman]</td>\n",
              "    </tr>\n",
              "    <tr>\n",
              "      <th>3</th>\n",
              "      <td>0.0</td>\n",
              "      <td>[guy, seating, seating, friend, guy, seat, int...</td>\n",
              "    </tr>\n",
              "    <tr>\n",
              "      <th>4</th>\n",
              "      <td>0.0</td>\n",
              "      <td>[status, match, program, week, response]</td>\n",
              "    </tr>\n",
              "    <tr>\n",
              "      <th>...</th>\n",
              "      <td>...</td>\n",
              "      <td>...</td>\n",
              "    </tr>\n",
              "    <tr>\n",
              "      <th>7992</th>\n",
              "      <td>4.0</td>\n",
              "      <td>[country, plane]</td>\n",
              "    </tr>\n",
              "    <tr>\n",
              "      <th>7993</th>\n",
              "      <td>2.0</td>\n",
              "      <td>[flight, tomorrow, morning, auto, night, flight]</td>\n",
              "    </tr>\n",
              "    <tr>\n",
              "      <th>7994</th>\n",
              "      <td>1.0</td>\n",
              "      <td>[cue, delay]</td>\n",
              "    </tr>\n",
              "    <tr>\n",
              "      <th>7995</th>\n",
              "      <td>0.0</td>\n",
              "      <td>[minute, flight, warning, communication, minut...</td>\n",
              "    </tr>\n",
              "    <tr>\n",
              "      <th>7996</th>\n",
              "      <td>0.0</td>\n",
              "      <td>[money, flight, phone, suggestion, commitment]</td>\n",
              "    </tr>\n",
              "  </tbody>\n",
              "</table>\n",
              "<p>7997 rows × 2 columns</p>\n",
              "</div>\n",
              "      <button class=\"colab-df-convert\" onclick=\"convertToInteractive('df-a393edb8-2d51-4800-84c1-0bfd6abfbdf0')\"\n",
              "              title=\"Convert this dataframe to an interactive table.\"\n",
              "              style=\"display:none;\">\n",
              "        \n",
              "  <svg xmlns=\"http://www.w3.org/2000/svg\" height=\"24px\"viewBox=\"0 0 24 24\"\n",
              "       width=\"24px\">\n",
              "    <path d=\"M0 0h24v24H0V0z\" fill=\"none\"/>\n",
              "    <path d=\"M18.56 5.44l.94 2.06.94-2.06 2.06-.94-2.06-.94-.94-2.06-.94 2.06-2.06.94zm-11 1L8.5 8.5l.94-2.06 2.06-.94-2.06-.94L8.5 2.5l-.94 2.06-2.06.94zm10 10l.94 2.06.94-2.06 2.06-.94-2.06-.94-.94-2.06-.94 2.06-2.06.94z\"/><path d=\"M17.41 7.96l-1.37-1.37c-.4-.4-.92-.59-1.43-.59-.52 0-1.04.2-1.43.59L10.3 9.45l-7.72 7.72c-.78.78-.78 2.05 0 2.83L4 21.41c.39.39.9.59 1.41.59.51 0 1.02-.2 1.41-.59l7.78-7.78 2.81-2.81c.8-.78.8-2.07 0-2.86zM5.41 20L4 18.59l7.72-7.72 1.47 1.35L5.41 20z\"/>\n",
              "  </svg>\n",
              "      </button>\n",
              "      \n",
              "  <style>\n",
              "    .colab-df-container {\n",
              "      display:flex;\n",
              "      flex-wrap:wrap;\n",
              "      gap: 12px;\n",
              "    }\n",
              "\n",
              "    .colab-df-convert {\n",
              "      background-color: #E8F0FE;\n",
              "      border: none;\n",
              "      border-radius: 50%;\n",
              "      cursor: pointer;\n",
              "      display: none;\n",
              "      fill: #1967D2;\n",
              "      height: 32px;\n",
              "      padding: 0 0 0 0;\n",
              "      width: 32px;\n",
              "    }\n",
              "\n",
              "    .colab-df-convert:hover {\n",
              "      background-color: #E2EBFA;\n",
              "      box-shadow: 0px 1px 2px rgba(60, 64, 67, 0.3), 0px 1px 3px 1px rgba(60, 64, 67, 0.15);\n",
              "      fill: #174EA6;\n",
              "    }\n",
              "\n",
              "    [theme=dark] .colab-df-convert {\n",
              "      background-color: #3B4455;\n",
              "      fill: #D2E3FC;\n",
              "    }\n",
              "\n",
              "    [theme=dark] .colab-df-convert:hover {\n",
              "      background-color: #434B5C;\n",
              "      box-shadow: 0px 1px 3px 1px rgba(0, 0, 0, 0.15);\n",
              "      filter: drop-shadow(0px 1px 2px rgba(0, 0, 0, 0.3));\n",
              "      fill: #FFFFFF;\n",
              "    }\n",
              "  </style>\n",
              "\n",
              "      <script>\n",
              "        const buttonEl =\n",
              "          document.querySelector('#df-a393edb8-2d51-4800-84c1-0bfd6abfbdf0 button.colab-df-convert');\n",
              "        buttonEl.style.display =\n",
              "          google.colab.kernel.accessAllowed ? 'block' : 'none';\n",
              "\n",
              "        async function convertToInteractive(key) {\n",
              "          const element = document.querySelector('#df-a393edb8-2d51-4800-84c1-0bfd6abfbdf0');\n",
              "          const dataTable =\n",
              "            await google.colab.kernel.invokeFunction('convertToInteractive',\n",
              "                                                     [key], {});\n",
              "          if (!dataTable) return;\n",
              "\n",
              "          const docLinkHtml = 'Like what you see? Visit the ' +\n",
              "            '<a target=\"_blank\" href=https://colab.research.google.com/notebooks/data_table.ipynb>data table notebook</a>'\n",
              "            + ' to learn more about interactive tables.';\n",
              "          element.innerHTML = '';\n",
              "          dataTable['output_type'] = 'display_data';\n",
              "          await google.colab.output.renderOutput(dataTable, element);\n",
              "          const docLink = document.createElement('div');\n",
              "          docLink.innerHTML = docLinkHtml;\n",
              "          element.appendChild(docLink);\n",
              "        }\n",
              "      </script>\n",
              "    </div>\n",
              "  </div>\n",
              "  "
            ]
          },
          "metadata": {},
          "execution_count": 59
        }
      ],
      "source": [
        "pandasDF"
      ]
    }
  ],
  "metadata": {
    "kernelspec": {
      "display_name": "Python 3 (ipykernel)",
      "language": "python",
      "name": "python3"
    },
    "language_info": {
      "codemirror_mode": {
        "name": "ipython",
        "version": 3
      },
      "file_extension": ".py",
      "mimetype": "text/x-python",
      "name": "python",
      "nbconvert_exporter": "python",
      "pygments_lexer": "ipython3",
      "version": "3.9.6"
    },
    "colab": {
      "provenance": []
    }
  },
  "nbformat": 4,
  "nbformat_minor": 5
}