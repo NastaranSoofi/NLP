{
  "cells": [
    {
      "cell_type": "code",
      "execution_count": null,
      "id": "238d9f7f",
      "metadata": {
        "id": "238d9f7f"
      },
      "outputs": [],
      "source": [
        "!pip install pyspark"
      ]
    },
    {
      "cell_type": "code",
      "source": [
        "from google.colab import drive\n",
        "drive.mount('/content/drive')"
      ],
      "metadata": {
        "colab": {
          "base_uri": "https://localhost:8080/"
        },
        "id": "ChJ9Gcza0xCn",
        "outputId": "e960a61a-a54c-4b89-c2c4-36eda391d40a"
      },
      "id": "ChJ9Gcza0xCn",
      "execution_count": 12,
      "outputs": [
        {
          "output_type": "stream",
          "name": "stdout",
          "text": [
            "Mounted at /content/drive\n"
          ]
        }
      ]
    },
    {
      "cell_type": "code",
      "source": [
        "from pyspark.conf import SparkConf\n",
        "from pyspark import SparkContext, SQLContext\n",
        "\n",
        "import pyspark.sql.functions as F\n",
        "import pyspark.sql.types as T\n",
        "\n",
        "from pyspark.sql import Row\n",
        "\n",
        "import pyspark\n",
        "from pyspark.sql import SparkSession"
      ],
      "metadata": {
        "id": "Y5YZQmzXzUfU"
      },
      "id": "Y5YZQmzXzUfU",
      "execution_count": 3,
      "outputs": []
    },
    {
      "cell_type": "code",
      "execution_count": 4,
      "id": "9a330d86",
      "metadata": {
        "id": "9a330d86"
      },
      "outputs": [],
      "source": [
        "import time\n",
        "tic = time.time()"
      ]
    },
    {
      "cell_type": "code",
      "execution_count": 5,
      "id": "b0d40e36",
      "metadata": {
        "id": "b0d40e36"
      },
      "outputs": [],
      "source": [
        "sc = SparkContext.getOrCreate();\n",
        "sc.stop()"
      ]
    },
    {
      "cell_type": "code",
      "execution_count": 6,
      "id": "0aa0f2a1",
      "metadata": {
        "id": "0aa0f2a1"
      },
      "outputs": [],
      "source": [
        "\n",
        "spark = SparkSession \\\n",
        "    .builder \\\n",
        "    .appName('Klassifier') \\\n",
        "    .getOrCreate()"
      ]
    },
    {
      "cell_type": "code",
      "execution_count": 7,
      "id": "33c93d7e",
      "metadata": {
        "colab": {
          "base_uri": "https://localhost:8080/",
          "height": 222
        },
        "id": "33c93d7e",
        "outputId": "176b2617-77fa-4129-87be-68db6d545c58"
      },
      "outputs": [
        {
          "output_type": "execute_result",
          "data": {
            "text/plain": [
              "<pyspark.sql.session.SparkSession at 0x7f2bf3d2fd90>"
            ],
            "text/html": [
              "\n",
              "            <div>\n",
              "                <p><b>SparkSession - in-memory</b></p>\n",
              "                \n",
              "        <div>\n",
              "            <p><b>SparkContext</b></p>\n",
              "\n",
              "            <p><a href=\"http://c5e1b1209771:4040\">Spark UI</a></p>\n",
              "\n",
              "            <dl>\n",
              "              <dt>Version</dt>\n",
              "                <dd><code>v3.3.1</code></dd>\n",
              "              <dt>Master</dt>\n",
              "                <dd><code>local[*]</code></dd>\n",
              "              <dt>AppName</dt>\n",
              "                <dd><code>Klassifier</code></dd>\n",
              "            </dl>\n",
              "        </div>\n",
              "        \n",
              "            </div>\n",
              "        "
            ]
          },
          "metadata": {},
          "execution_count": 7
        }
      ],
      "source": [
        "spark"
      ]
    },
    {
      "cell_type": "code",
      "execution_count": 13,
      "id": "c2ff5ebe",
      "metadata": {
        "id": "c2ff5ebe"
      },
      "outputs": [],
      "source": [
        "df = (spark.read\n",
        "          .format(\"csv\")\n",
        "          .option('header', 'true')\n",
        "          .load(\"/content/drive/My Drive/AI/out.csv\"))"
      ]
    },
    {
      "cell_type": "code",
      "execution_count": 14,
      "id": "9a485658",
      "metadata": {
        "colab": {
          "base_uri": "https://localhost:8080/"
        },
        "id": "9a485658",
        "outputId": "990edb93-22ed-432a-e6db-adb189209f4c"
      },
      "outputs": [
        {
          "output_type": "stream",
          "name": "stdout",
          "text": [
            "+-----+--------------------+\n",
            "|label|     text_root_words|\n",
            "+-----+--------------------+\n",
            "|  4.0|['entertainment',...|\n",
            "|  1.0|['sfo', 'pdx', 's...|\n",
            "|  4.0|['week', 'seat', ...|\n",
            "|  0.0|['guy', 'seating'...|\n",
            "|  0.0|['status', 'meet'...|\n",
            "+-----+--------------------+\n",
            "only showing top 5 rows\n",
            "\n"
          ]
        }
      ],
      "source": [
        "df.show(5)"
      ]
    },
    {
      "cell_type": "code",
      "execution_count": 15,
      "id": "df9a9e16",
      "metadata": {
        "colab": {
          "base_uri": "https://localhost:8080/",
          "height": 424
        },
        "id": "df9a9e16",
        "outputId": "d5e68276-77a1-4ffc-b8d6-24f7f755b8ad"
      },
      "outputs": [
        {
          "output_type": "execute_result",
          "data": {
            "text/plain": [
              "     label                                    text_root_words\n",
              "0      4.0  ['entertainment', 'guest', 'face', 'amp', 'rec...\n",
              "1      1.0                         ['sfo', 'pdx', 'schedule']\n",
              "2      4.0                      ['week', 'seat', 'gentleman']\n",
              "3      0.0   ['guy', 'seating', 'friend', 'seat', 'internet']\n",
              "4      0.0     ['status', 'meet', 'plan', 'week', 'response']\n",
              "...    ...                                                ...\n",
              "7992   4.0                 ['@americanair', 'state', 'plane']\n",
              "7993   2.0  ['@americanair', 'flight', 'tomorrow', 'mornin...\n",
              "7994   1.0              ['@americanair', 'cue', 'delay', '👌']\n",
              "7995   0.0  ['minute', 'flight', 'warning', 'communication...\n",
              "7996   0.0  ['@americanair', 'money', 'flight', 'phone', '...\n",
              "\n",
              "[7997 rows x 2 columns]"
            ],
            "text/html": [
              "\n",
              "  <div id=\"df-c6ebc7a5-a61c-413d-bc2c-af5de2d33343\">\n",
              "    <div class=\"colab-df-container\">\n",
              "      <div>\n",
              "<style scoped>\n",
              "    .dataframe tbody tr th:only-of-type {\n",
              "        vertical-align: middle;\n",
              "    }\n",
              "\n",
              "    .dataframe tbody tr th {\n",
              "        vertical-align: top;\n",
              "    }\n",
              "\n",
              "    .dataframe thead th {\n",
              "        text-align: right;\n",
              "    }\n",
              "</style>\n",
              "<table border=\"1\" class=\"dataframe\">\n",
              "  <thead>\n",
              "    <tr style=\"text-align: right;\">\n",
              "      <th></th>\n",
              "      <th>label</th>\n",
              "      <th>text_root_words</th>\n",
              "    </tr>\n",
              "  </thead>\n",
              "  <tbody>\n",
              "    <tr>\n",
              "      <th>0</th>\n",
              "      <td>4.0</td>\n",
              "      <td>['entertainment', 'guest', 'face', 'amp', 'rec...</td>\n",
              "    </tr>\n",
              "    <tr>\n",
              "      <th>1</th>\n",
              "      <td>1.0</td>\n",
              "      <td>['sfo', 'pdx', 'schedule']</td>\n",
              "    </tr>\n",
              "    <tr>\n",
              "      <th>2</th>\n",
              "      <td>4.0</td>\n",
              "      <td>['week', 'seat', 'gentleman']</td>\n",
              "    </tr>\n",
              "    <tr>\n",
              "      <th>3</th>\n",
              "      <td>0.0</td>\n",
              "      <td>['guy', 'seating', 'friend', 'seat', 'internet']</td>\n",
              "    </tr>\n",
              "    <tr>\n",
              "      <th>4</th>\n",
              "      <td>0.0</td>\n",
              "      <td>['status', 'meet', 'plan', 'week', 'response']</td>\n",
              "    </tr>\n",
              "    <tr>\n",
              "      <th>...</th>\n",
              "      <td>...</td>\n",
              "      <td>...</td>\n",
              "    </tr>\n",
              "    <tr>\n",
              "      <th>7992</th>\n",
              "      <td>4.0</td>\n",
              "      <td>['@americanair', 'state', 'plane']</td>\n",
              "    </tr>\n",
              "    <tr>\n",
              "      <th>7993</th>\n",
              "      <td>2.0</td>\n",
              "      <td>['@americanair', 'flight', 'tomorrow', 'mornin...</td>\n",
              "    </tr>\n",
              "    <tr>\n",
              "      <th>7994</th>\n",
              "      <td>1.0</td>\n",
              "      <td>['@americanair', 'cue', 'delay', '👌']</td>\n",
              "    </tr>\n",
              "    <tr>\n",
              "      <th>7995</th>\n",
              "      <td>0.0</td>\n",
              "      <td>['minute', 'flight', 'warning', 'communication...</td>\n",
              "    </tr>\n",
              "    <tr>\n",
              "      <th>7996</th>\n",
              "      <td>0.0</td>\n",
              "      <td>['@americanair', 'money', 'flight', 'phone', '...</td>\n",
              "    </tr>\n",
              "  </tbody>\n",
              "</table>\n",
              "<p>7997 rows × 2 columns</p>\n",
              "</div>\n",
              "      <button class=\"colab-df-convert\" onclick=\"convertToInteractive('df-c6ebc7a5-a61c-413d-bc2c-af5de2d33343')\"\n",
              "              title=\"Convert this dataframe to an interactive table.\"\n",
              "              style=\"display:none;\">\n",
              "        \n",
              "  <svg xmlns=\"http://www.w3.org/2000/svg\" height=\"24px\"viewBox=\"0 0 24 24\"\n",
              "       width=\"24px\">\n",
              "    <path d=\"M0 0h24v24H0V0z\" fill=\"none\"/>\n",
              "    <path d=\"M18.56 5.44l.94 2.06.94-2.06 2.06-.94-2.06-.94-.94-2.06-.94 2.06-2.06.94zm-11 1L8.5 8.5l.94-2.06 2.06-.94-2.06-.94L8.5 2.5l-.94 2.06-2.06.94zm10 10l.94 2.06.94-2.06 2.06-.94-2.06-.94-.94-2.06-.94 2.06-2.06.94z\"/><path d=\"M17.41 7.96l-1.37-1.37c-.4-.4-.92-.59-1.43-.59-.52 0-1.04.2-1.43.59L10.3 9.45l-7.72 7.72c-.78.78-.78 2.05 0 2.83L4 21.41c.39.39.9.59 1.41.59.51 0 1.02-.2 1.41-.59l7.78-7.78 2.81-2.81c.8-.78.8-2.07 0-2.86zM5.41 20L4 18.59l7.72-7.72 1.47 1.35L5.41 20z\"/>\n",
              "  </svg>\n",
              "      </button>\n",
              "      \n",
              "  <style>\n",
              "    .colab-df-container {\n",
              "      display:flex;\n",
              "      flex-wrap:wrap;\n",
              "      gap: 12px;\n",
              "    }\n",
              "\n",
              "    .colab-df-convert {\n",
              "      background-color: #E8F0FE;\n",
              "      border: none;\n",
              "      border-radius: 50%;\n",
              "      cursor: pointer;\n",
              "      display: none;\n",
              "      fill: #1967D2;\n",
              "      height: 32px;\n",
              "      padding: 0 0 0 0;\n",
              "      width: 32px;\n",
              "    }\n",
              "\n",
              "    .colab-df-convert:hover {\n",
              "      background-color: #E2EBFA;\n",
              "      box-shadow: 0px 1px 2px rgba(60, 64, 67, 0.3), 0px 1px 3px 1px rgba(60, 64, 67, 0.15);\n",
              "      fill: #174EA6;\n",
              "    }\n",
              "\n",
              "    [theme=dark] .colab-df-convert {\n",
              "      background-color: #3B4455;\n",
              "      fill: #D2E3FC;\n",
              "    }\n",
              "\n",
              "    [theme=dark] .colab-df-convert:hover {\n",
              "      background-color: #434B5C;\n",
              "      box-shadow: 0px 1px 3px 1px rgba(0, 0, 0, 0.15);\n",
              "      filter: drop-shadow(0px 1px 2px rgba(0, 0, 0, 0.3));\n",
              "      fill: #FFFFFF;\n",
              "    }\n",
              "  </style>\n",
              "\n",
              "      <script>\n",
              "        const buttonEl =\n",
              "          document.querySelector('#df-c6ebc7a5-a61c-413d-bc2c-af5de2d33343 button.colab-df-convert');\n",
              "        buttonEl.style.display =\n",
              "          google.colab.kernel.accessAllowed ? 'block' : 'none';\n",
              "\n",
              "        async function convertToInteractive(key) {\n",
              "          const element = document.querySelector('#df-c6ebc7a5-a61c-413d-bc2c-af5de2d33343');\n",
              "          const dataTable =\n",
              "            await google.colab.kernel.invokeFunction('convertToInteractive',\n",
              "                                                     [key], {});\n",
              "          if (!dataTable) return;\n",
              "\n",
              "          const docLinkHtml = 'Like what you see? Visit the ' +\n",
              "            '<a target=\"_blank\" href=https://colab.research.google.com/notebooks/data_table.ipynb>data table notebook</a>'\n",
              "            + ' to learn more about interactive tables.';\n",
              "          element.innerHTML = '';\n",
              "          dataTable['output_type'] = 'display_data';\n",
              "          await google.colab.output.renderOutput(dataTable, element);\n",
              "          const docLink = document.createElement('div');\n",
              "          docLink.innerHTML = docLinkHtml;\n",
              "          element.appendChild(docLink);\n",
              "        }\n",
              "      </script>\n",
              "    </div>\n",
              "  </div>\n",
              "  "
            ]
          },
          "metadata": {},
          "execution_count": 15
        }
      ],
      "source": [
        "df.toPandas()"
      ]
    },
    {
      "cell_type": "code",
      "execution_count": 16,
      "id": "3c9b17b5",
      "metadata": {
        "colab": {
          "base_uri": "https://localhost:8080/"
        },
        "id": "3c9b17b5",
        "outputId": "d54702fe-db67-4802-bbb8-8855ea0eefbb"
      },
      "outputs": [
        {
          "output_type": "execute_result",
          "data": {
            "text/plain": [
              "['label', 'text_root_words']"
            ]
          },
          "metadata": {},
          "execution_count": 16
        }
      ],
      "source": [
        "df.columns"
      ]
    },
    {
      "cell_type": "code",
      "execution_count": 17,
      "id": "f901e3e1",
      "metadata": {
        "colab": {
          "base_uri": "https://localhost:8080/"
        },
        "id": "f901e3e1",
        "outputId": "153d4d73-8a7a-487b-c504-665446c6c862"
      },
      "outputs": [
        {
          "output_type": "execute_result",
          "data": {
            "text/plain": [
              "[('label', 'string'), ('text_root_words', 'string')]"
            ]
          },
          "metadata": {},
          "execution_count": 17
        }
      ],
      "source": [
        "df.dtypes"
      ]
    },
    {
      "cell_type": "code",
      "execution_count": 18,
      "id": "c2fa2bf7",
      "metadata": {
        "id": "c2fa2bf7"
      },
      "outputs": [],
      "source": [
        "# import pyspark.sql.functions as F\n",
        "# df.withColumn(\"new_array\", F.array(F.col(\"negativereason_words\"))).show()\n",
        "from pyspark.sql.types import *\n",
        "from pyspark.sql.functions import col, split\n",
        "df = df.withColumn( \"text_root_words\", split(col(\"text_root_words\"), \",\\s*\").cast(\"array<string>\").alias(\"ev\"))"
      ]
    },
    {
      "cell_type": "code",
      "execution_count": 19,
      "id": "c292194a",
      "metadata": {
        "colab": {
          "base_uri": "https://localhost:8080/"
        },
        "id": "c292194a",
        "outputId": "51de10b1-9d74-4ccc-c0d1-94ad845ab226"
      },
      "outputs": [
        {
          "output_type": "execute_result",
          "data": {
            "text/plain": [
              "[('label', 'string'), ('text_root_words', 'array<string>')]"
            ]
          },
          "metadata": {},
          "execution_count": 19
        }
      ],
      "source": [
        "df.dtypes"
      ]
    },
    {
      "cell_type": "code",
      "execution_count": 20,
      "id": "a853c91e",
      "metadata": {
        "id": "a853c91e"
      },
      "outputs": [],
      "source": [
        "from pyspark.ml.feature import CountVectorizer\n",
        "cv = CountVectorizer(inputCol=\"text_root_words\", outputCol=\"features\", vocabSize=30000, minDF=2.0)\n"
      ]
    },
    {
      "cell_type": "code",
      "execution_count": 21,
      "id": "c0e2cc7f",
      "metadata": {
        "id": "c0e2cc7f"
      },
      "outputs": [],
      "source": [
        "model = cv.fit(df)"
      ]
    },
    {
      "cell_type": "code",
      "execution_count": 22,
      "id": "a10b1955",
      "metadata": {
        "colab": {
          "base_uri": "https://localhost:8080/"
        },
        "id": "a10b1955",
        "outputId": "745a4def-ddb0-4f43-c1eb-02783cba3f24"
      },
      "outputs": [
        {
          "output_type": "stream",
          "name": "stdout",
          "text": [
            "+-----+-------------------------------------------------------------------------------------+-----------------------------------------------------------------------+\n",
            "|label|text_root_words                                                                      |features                                                               |\n",
            "+-----+-------------------------------------------------------------------------------------+-----------------------------------------------------------------------+\n",
            "|4.0  |[['entertainment', 'guest', 'face', 'amp', 'recourse']]                              |(2445,[13,1315,1329,1466,1719],[1.0,1.0,1.0,1.0,1.0])                  |\n",
            "|1.0  |[['sfo', 'pdx', 'schedule']]                                                         |(2445,[812,840,1470],[1.0,1.0,1.0])                                    |\n",
            "|4.0  |[['week', 'seat', 'gentleman']]                                                      |(2445,[21,305],[1.0,1.0])                                              |\n",
            "|0.0  |[['guy', 'seating', 'friend', 'seat', 'internet']]                                   |(2445,[21,72,209,1426,1610],[1.0,1.0,1.0,1.0,1.0])                     |\n",
            "|0.0  |[['status', 'meet', 'plan', 'week', 'response']]                                     |(2445,[79,162,203,296,437],[1.0,1.0,1.0,1.0,1.0])                      |\n",
            "|4.0  |[['air', 'vent', 'vx358', '#', 'noair', 'worstflightever', 'sfotobo']]               |(2445,[7,511],[1.0,1.0])                                               |\n",
            "|5.0  |[['birthday', 'trip', 'elevate', 'flight', 'booking', 'problem']]                    |(2445,[0,59,81,92,1036,1170],[1.0,1.0,1.0,1.0,1.0,1.0])                |\n",
            "|0.0  |[['help', 'headphone', 'flight', 'iad', 'today', 'seat', 'l&amp;f', 'number', 'lax']]|(2445,[0,21,27,62,243,567,1304,2389],[1.0,1.0,1.0,1.0,1.0,1.0,1.0,1.0])|\n",
            "|0.0  |[['tax_return', 'phone', 'self', 'service', 'option']]                               |(2445,[5,14,153,652,1186],[1.0,1.0,1.0,1.0,1.0])                       |\n",
            "|0.0  |[['chat', 'support', 'site']]                                                        |(2445,[279,414],[1.0,1.0])                                             |\n",
            "|5.0  |[['time', 'flyer', 'week', 'flight', 'elevate', 'account', 'help']]                  |(2445,[0,39,53,79,232,451,1036],[1.0,1.0,1.0,1.0,1.0,1.0,1.0])         |\n",
            "|5.0  |[['lga-&gt;dal', 'book', 'week', 'amp', 'page', 'load']]                             |(2445,[13,79,393,825],[1.0,1.0,1.0,1.0])                               |\n",
            "|0.0  |[['week', 'flight', 'elevate', 'help']]                                              |(2445,[0,39,305,1036],[1.0,1.0,1.0,1.0])                               |\n",
            "|0.0  |[['heyyyy', 'guyyyys', 'hour']]                                                      |(2445,[20],[1.0])                                                      |\n",
            "|1.0  |[['hold', 'minute', 'flight', 'tonight']]                                            |(2445,[0,23,32,245],[1.0,1.0,1.0,1.0])                                 |\n",
            "|3.0  |[['bag']]                                                                            |(2445,[465],[1.0])                                                     |\n",
            "|6.0  |[['airline', 'loft', 'game', 'table', 'floor', 'http://t.co/hy0vrfhjht']]            |(2445,[91,496,987,1262],[1.0,1.0,1.0,1.0])                             |\n",
            "|0.0  |[['customer', 'service', 'asap']]                                                    |(2445,[5,25,502],[1.0,1.0,1.0])                                        |\n",
            "|0.0  |[['traveler', 'customer', 'service', '@jetblue', '#']]                               |(2445,[5,6,15,762,1184],[1.0,1.0,1.0,1.0,1.0])                         |\n",
            "|1.0  |[['airline', 'flight']]                                                              |(2445,[9,91],[1.0,1.0])                                                |\n",
            "+-----+-------------------------------------------------------------------------------------+-----------------------------------------------------------------------+\n",
            "only showing top 20 rows\n",
            "\n"
          ]
        }
      ],
      "source": [
        "result = model.transform(df)\n",
        "result.show(truncate=False)"
      ]
    },
    {
      "cell_type": "code",
      "execution_count": 23,
      "id": "c9083d10",
      "metadata": {
        "colab": {
          "base_uri": "https://localhost:8080/",
          "height": 424
        },
        "id": "c9083d10",
        "outputId": "52a3338d-0c0b-4349-f56c-d3cbbc17a061"
      },
      "outputs": [
        {
          "output_type": "execute_result",
          "data": {
            "text/plain": [
              "     label                                    text_root_words  \\\n",
              "0      4.0  [['entertainment', 'guest', 'face', 'amp', 're...   \n",
              "1      1.0                       [['sfo', 'pdx', 'schedule']]   \n",
              "2      4.0                    [['week', 'seat', 'gentleman']]   \n",
              "3      0.0  [['guy', 'seating', 'friend', 'seat', 'interne...   \n",
              "4      0.0   [['status', 'meet', 'plan', 'week', 'response']]   \n",
              "...    ...                                                ...   \n",
              "7992   4.0               [['@americanair', 'state', 'plane']]   \n",
              "7993   2.0  [['@americanair', 'flight', 'tomorrow', 'morni...   \n",
              "7994   1.0            [['@americanair', 'cue', 'delay', '👌']]   \n",
              "7995   0.0  [['minute', 'flight', 'warning', 'communicatio...   \n",
              "7996   0.0  [['@americanair', 'money', 'flight', 'phone', ...   \n",
              "\n",
              "                                               features  \n",
              "0     (0.0, 0.0, 0.0, 0.0, 0.0, 0.0, 0.0, 0.0, 0.0, ...  \n",
              "1     (0.0, 0.0, 0.0, 0.0, 0.0, 0.0, 0.0, 0.0, 0.0, ...  \n",
              "2     (0.0, 0.0, 0.0, 0.0, 0.0, 0.0, 0.0, 0.0, 0.0, ...  \n",
              "3     (0.0, 0.0, 0.0, 0.0, 0.0, 0.0, 0.0, 0.0, 0.0, ...  \n",
              "4     (0.0, 0.0, 0.0, 0.0, 0.0, 0.0, 0.0, 0.0, 0.0, ...  \n",
              "...                                                 ...  \n",
              "7992  (0.0, 1.0, 0.0, 0.0, 0.0, 0.0, 0.0, 0.0, 0.0, ...  \n",
              "7993  (1.0, 1.0, 0.0, 0.0, 0.0, 0.0, 0.0, 0.0, 0.0, ...  \n",
              "7994  (0.0, 1.0, 0.0, 0.0, 0.0, 0.0, 0.0, 0.0, 0.0, ...  \n",
              "7995  (1.0, 0.0, 0.0, 0.0, 0.0, 0.0, 1.0, 0.0, 0.0, ...  \n",
              "7996  (1.0, 1.0, 0.0, 0.0, 0.0, 0.0, 0.0, 0.0, 0.0, ...  \n",
              "\n",
              "[7997 rows x 3 columns]"
            ],
            "text/html": [
              "\n",
              "  <div id=\"df-0c1dfa73-5d15-4451-b09a-5955ed942bd7\">\n",
              "    <div class=\"colab-df-container\">\n",
              "      <div>\n",
              "<style scoped>\n",
              "    .dataframe tbody tr th:only-of-type {\n",
              "        vertical-align: middle;\n",
              "    }\n",
              "\n",
              "    .dataframe tbody tr th {\n",
              "        vertical-align: top;\n",
              "    }\n",
              "\n",
              "    .dataframe thead th {\n",
              "        text-align: right;\n",
              "    }\n",
              "</style>\n",
              "<table border=\"1\" class=\"dataframe\">\n",
              "  <thead>\n",
              "    <tr style=\"text-align: right;\">\n",
              "      <th></th>\n",
              "      <th>label</th>\n",
              "      <th>text_root_words</th>\n",
              "      <th>features</th>\n",
              "    </tr>\n",
              "  </thead>\n",
              "  <tbody>\n",
              "    <tr>\n",
              "      <th>0</th>\n",
              "      <td>4.0</td>\n",
              "      <td>[['entertainment', 'guest', 'face', 'amp', 're...</td>\n",
              "      <td>(0.0, 0.0, 0.0, 0.0, 0.0, 0.0, 0.0, 0.0, 0.0, ...</td>\n",
              "    </tr>\n",
              "    <tr>\n",
              "      <th>1</th>\n",
              "      <td>1.0</td>\n",
              "      <td>[['sfo', 'pdx', 'schedule']]</td>\n",
              "      <td>(0.0, 0.0, 0.0, 0.0, 0.0, 0.0, 0.0, 0.0, 0.0, ...</td>\n",
              "    </tr>\n",
              "    <tr>\n",
              "      <th>2</th>\n",
              "      <td>4.0</td>\n",
              "      <td>[['week', 'seat', 'gentleman']]</td>\n",
              "      <td>(0.0, 0.0, 0.0, 0.0, 0.0, 0.0, 0.0, 0.0, 0.0, ...</td>\n",
              "    </tr>\n",
              "    <tr>\n",
              "      <th>3</th>\n",
              "      <td>0.0</td>\n",
              "      <td>[['guy', 'seating', 'friend', 'seat', 'interne...</td>\n",
              "      <td>(0.0, 0.0, 0.0, 0.0, 0.0, 0.0, 0.0, 0.0, 0.0, ...</td>\n",
              "    </tr>\n",
              "    <tr>\n",
              "      <th>4</th>\n",
              "      <td>0.0</td>\n",
              "      <td>[['status', 'meet', 'plan', 'week', 'response']]</td>\n",
              "      <td>(0.0, 0.0, 0.0, 0.0, 0.0, 0.0, 0.0, 0.0, 0.0, ...</td>\n",
              "    </tr>\n",
              "    <tr>\n",
              "      <th>...</th>\n",
              "      <td>...</td>\n",
              "      <td>...</td>\n",
              "      <td>...</td>\n",
              "    </tr>\n",
              "    <tr>\n",
              "      <th>7992</th>\n",
              "      <td>4.0</td>\n",
              "      <td>[['@americanair', 'state', 'plane']]</td>\n",
              "      <td>(0.0, 1.0, 0.0, 0.0, 0.0, 0.0, 0.0, 0.0, 0.0, ...</td>\n",
              "    </tr>\n",
              "    <tr>\n",
              "      <th>7993</th>\n",
              "      <td>2.0</td>\n",
              "      <td>[['@americanair', 'flight', 'tomorrow', 'morni...</td>\n",
              "      <td>(1.0, 1.0, 0.0, 0.0, 0.0, 0.0, 0.0, 0.0, 0.0, ...</td>\n",
              "    </tr>\n",
              "    <tr>\n",
              "      <th>7994</th>\n",
              "      <td>1.0</td>\n",
              "      <td>[['@americanair', 'cue', 'delay', '👌']]</td>\n",
              "      <td>(0.0, 1.0, 0.0, 0.0, 0.0, 0.0, 0.0, 0.0, 0.0, ...</td>\n",
              "    </tr>\n",
              "    <tr>\n",
              "      <th>7995</th>\n",
              "      <td>0.0</td>\n",
              "      <td>[['minute', 'flight', 'warning', 'communicatio...</td>\n",
              "      <td>(1.0, 0.0, 0.0, 0.0, 0.0, 0.0, 1.0, 0.0, 0.0, ...</td>\n",
              "    </tr>\n",
              "    <tr>\n",
              "      <th>7996</th>\n",
              "      <td>0.0</td>\n",
              "      <td>[['@americanair', 'money', 'flight', 'phone', ...</td>\n",
              "      <td>(1.0, 1.0, 0.0, 0.0, 0.0, 0.0, 0.0, 0.0, 0.0, ...</td>\n",
              "    </tr>\n",
              "  </tbody>\n",
              "</table>\n",
              "<p>7997 rows × 3 columns</p>\n",
              "</div>\n",
              "      <button class=\"colab-df-convert\" onclick=\"convertToInteractive('df-0c1dfa73-5d15-4451-b09a-5955ed942bd7')\"\n",
              "              title=\"Convert this dataframe to an interactive table.\"\n",
              "              style=\"display:none;\">\n",
              "        \n",
              "  <svg xmlns=\"http://www.w3.org/2000/svg\" height=\"24px\"viewBox=\"0 0 24 24\"\n",
              "       width=\"24px\">\n",
              "    <path d=\"M0 0h24v24H0V0z\" fill=\"none\"/>\n",
              "    <path d=\"M18.56 5.44l.94 2.06.94-2.06 2.06-.94-2.06-.94-.94-2.06-.94 2.06-2.06.94zm-11 1L8.5 8.5l.94-2.06 2.06-.94-2.06-.94L8.5 2.5l-.94 2.06-2.06.94zm10 10l.94 2.06.94-2.06 2.06-.94-2.06-.94-.94-2.06-.94 2.06-2.06.94z\"/><path d=\"M17.41 7.96l-1.37-1.37c-.4-.4-.92-.59-1.43-.59-.52 0-1.04.2-1.43.59L10.3 9.45l-7.72 7.72c-.78.78-.78 2.05 0 2.83L4 21.41c.39.39.9.59 1.41.59.51 0 1.02-.2 1.41-.59l7.78-7.78 2.81-2.81c.8-.78.8-2.07 0-2.86zM5.41 20L4 18.59l7.72-7.72 1.47 1.35L5.41 20z\"/>\n",
              "  </svg>\n",
              "      </button>\n",
              "      \n",
              "  <style>\n",
              "    .colab-df-container {\n",
              "      display:flex;\n",
              "      flex-wrap:wrap;\n",
              "      gap: 12px;\n",
              "    }\n",
              "\n",
              "    .colab-df-convert {\n",
              "      background-color: #E8F0FE;\n",
              "      border: none;\n",
              "      border-radius: 50%;\n",
              "      cursor: pointer;\n",
              "      display: none;\n",
              "      fill: #1967D2;\n",
              "      height: 32px;\n",
              "      padding: 0 0 0 0;\n",
              "      width: 32px;\n",
              "    }\n",
              "\n",
              "    .colab-df-convert:hover {\n",
              "      background-color: #E2EBFA;\n",
              "      box-shadow: 0px 1px 2px rgba(60, 64, 67, 0.3), 0px 1px 3px 1px rgba(60, 64, 67, 0.15);\n",
              "      fill: #174EA6;\n",
              "    }\n",
              "\n",
              "    [theme=dark] .colab-df-convert {\n",
              "      background-color: #3B4455;\n",
              "      fill: #D2E3FC;\n",
              "    }\n",
              "\n",
              "    [theme=dark] .colab-df-convert:hover {\n",
              "      background-color: #434B5C;\n",
              "      box-shadow: 0px 1px 3px 1px rgba(0, 0, 0, 0.15);\n",
              "      filter: drop-shadow(0px 1px 2px rgba(0, 0, 0, 0.3));\n",
              "      fill: #FFFFFF;\n",
              "    }\n",
              "  </style>\n",
              "\n",
              "      <script>\n",
              "        const buttonEl =\n",
              "          document.querySelector('#df-0c1dfa73-5d15-4451-b09a-5955ed942bd7 button.colab-df-convert');\n",
              "        buttonEl.style.display =\n",
              "          google.colab.kernel.accessAllowed ? 'block' : 'none';\n",
              "\n",
              "        async function convertToInteractive(key) {\n",
              "          const element = document.querySelector('#df-0c1dfa73-5d15-4451-b09a-5955ed942bd7');\n",
              "          const dataTable =\n",
              "            await google.colab.kernel.invokeFunction('convertToInteractive',\n",
              "                                                     [key], {});\n",
              "          if (!dataTable) return;\n",
              "\n",
              "          const docLinkHtml = 'Like what you see? Visit the ' +\n",
              "            '<a target=\"_blank\" href=https://colab.research.google.com/notebooks/data_table.ipynb>data table notebook</a>'\n",
              "            + ' to learn more about interactive tables.';\n",
              "          element.innerHTML = '';\n",
              "          dataTable['output_type'] = 'display_data';\n",
              "          await google.colab.output.renderOutput(dataTable, element);\n",
              "          const docLink = document.createElement('div');\n",
              "          docLink.innerHTML = docLinkHtml;\n",
              "          element.appendChild(docLink);\n",
              "        }\n",
              "      </script>\n",
              "    </div>\n",
              "  </div>\n",
              "  "
            ]
          },
          "metadata": {},
          "execution_count": 23
        }
      ],
      "source": [
        "result.toPandas()"
      ]
    },
    {
      "cell_type": "code",
      "execution_count": 24,
      "id": "bf56abd8",
      "metadata": {
        "id": "bf56abd8"
      },
      "outputs": [],
      "source": [
        "result = result.drop('text_root_words')"
      ]
    },
    {
      "cell_type": "code",
      "execution_count": 25,
      "id": "10ded9e1",
      "metadata": {
        "id": "10ded9e1"
      },
      "outputs": [],
      "source": [
        "from pyspark.sql.types import IntegerType\n",
        "result = result.withColumn(\"label\", result[\"label\"].cast(IntegerType()))"
      ]
    },
    {
      "cell_type": "code",
      "execution_count": 26,
      "id": "cba0703d",
      "metadata": {
        "id": "cba0703d"
      },
      "outputs": [],
      "source": [
        "(training_data, test_data) = result.randomSplit([0.7,0.3])"
      ]
    },
    {
      "cell_type": "code",
      "execution_count": 27,
      "id": "72c793f0",
      "metadata": {
        "colab": {
          "base_uri": "https://localhost:8080/",
          "height": 424
        },
        "id": "72c793f0",
        "outputId": "14c639b9-0083-4c0f-a990-86272a0fb703"
      },
      "outputs": [
        {
          "output_type": "execute_result",
          "data": {
            "text/plain": [
              "      label                                           features\n",
              "0         0  (0.0, 0.0, 0.0, 0.0, 0.0, 0.0, 0.0, 0.0, 0.0, ...\n",
              "1         0  (0.0, 0.0, 0.0, 0.0, 0.0, 0.0, 0.0, 0.0, 0.0, ...\n",
              "2         0  (0.0, 0.0, 0.0, 0.0, 0.0, 0.0, 0.0, 0.0, 0.0, ...\n",
              "3         0  (0.0, 0.0, 0.0, 0.0, 0.0, 0.0, 0.0, 0.0, 0.0, ...\n",
              "4         0  (0.0, 0.0, 0.0, 0.0, 0.0, 0.0, 0.0, 0.0, 0.0, ...\n",
              "...     ...                                                ...\n",
              "2374      8  (0.0, 0.0, 0.0, 0.0, 0.0, 0.0, 0.0, 0.0, 0.0, ...\n",
              "2375      8  (0.0, 0.0, 0.0, 0.0, 0.0, 0.0, 0.0, 0.0, 0.0, ...\n",
              "2376     10  (0.0, 0.0, 0.0, 0.0, 0.0, 0.0, 0.0, 0.0, 0.0, ...\n",
              "2377     12  (0.0, 0.0, 0.0, 0.0, 0.0, 0.0, 0.0, 0.0, 0.0, ...\n",
              "2378     13  (0.0, 0.0, 1.0, 0.0, 0.0, 0.0, 0.0, 0.0, 0.0, ...\n",
              "\n",
              "[2379 rows x 2 columns]"
            ],
            "text/html": [
              "\n",
              "  <div id=\"df-be65390b-8a5c-45f0-8179-6ab345b88cdf\">\n",
              "    <div class=\"colab-df-container\">\n",
              "      <div>\n",
              "<style scoped>\n",
              "    .dataframe tbody tr th:only-of-type {\n",
              "        vertical-align: middle;\n",
              "    }\n",
              "\n",
              "    .dataframe tbody tr th {\n",
              "        vertical-align: top;\n",
              "    }\n",
              "\n",
              "    .dataframe thead th {\n",
              "        text-align: right;\n",
              "    }\n",
              "</style>\n",
              "<table border=\"1\" class=\"dataframe\">\n",
              "  <thead>\n",
              "    <tr style=\"text-align: right;\">\n",
              "      <th></th>\n",
              "      <th>label</th>\n",
              "      <th>features</th>\n",
              "    </tr>\n",
              "  </thead>\n",
              "  <tbody>\n",
              "    <tr>\n",
              "      <th>0</th>\n",
              "      <td>0</td>\n",
              "      <td>(0.0, 0.0, 0.0, 0.0, 0.0, 0.0, 0.0, 0.0, 0.0, ...</td>\n",
              "    </tr>\n",
              "    <tr>\n",
              "      <th>1</th>\n",
              "      <td>0</td>\n",
              "      <td>(0.0, 0.0, 0.0, 0.0, 0.0, 0.0, 0.0, 0.0, 0.0, ...</td>\n",
              "    </tr>\n",
              "    <tr>\n",
              "      <th>2</th>\n",
              "      <td>0</td>\n",
              "      <td>(0.0, 0.0, 0.0, 0.0, 0.0, 0.0, 0.0, 0.0, 0.0, ...</td>\n",
              "    </tr>\n",
              "    <tr>\n",
              "      <th>3</th>\n",
              "      <td>0</td>\n",
              "      <td>(0.0, 0.0, 0.0, 0.0, 0.0, 0.0, 0.0, 0.0, 0.0, ...</td>\n",
              "    </tr>\n",
              "    <tr>\n",
              "      <th>4</th>\n",
              "      <td>0</td>\n",
              "      <td>(0.0, 0.0, 0.0, 0.0, 0.0, 0.0, 0.0, 0.0, 0.0, ...</td>\n",
              "    </tr>\n",
              "    <tr>\n",
              "      <th>...</th>\n",
              "      <td>...</td>\n",
              "      <td>...</td>\n",
              "    </tr>\n",
              "    <tr>\n",
              "      <th>2374</th>\n",
              "      <td>8</td>\n",
              "      <td>(0.0, 0.0, 0.0, 0.0, 0.0, 0.0, 0.0, 0.0, 0.0, ...</td>\n",
              "    </tr>\n",
              "    <tr>\n",
              "      <th>2375</th>\n",
              "      <td>8</td>\n",
              "      <td>(0.0, 0.0, 0.0, 0.0, 0.0, 0.0, 0.0, 0.0, 0.0, ...</td>\n",
              "    </tr>\n",
              "    <tr>\n",
              "      <th>2376</th>\n",
              "      <td>10</td>\n",
              "      <td>(0.0, 0.0, 0.0, 0.0, 0.0, 0.0, 0.0, 0.0, 0.0, ...</td>\n",
              "    </tr>\n",
              "    <tr>\n",
              "      <th>2377</th>\n",
              "      <td>12</td>\n",
              "      <td>(0.0, 0.0, 0.0, 0.0, 0.0, 0.0, 0.0, 0.0, 0.0, ...</td>\n",
              "    </tr>\n",
              "    <tr>\n",
              "      <th>2378</th>\n",
              "      <td>13</td>\n",
              "      <td>(0.0, 0.0, 1.0, 0.0, 0.0, 0.0, 0.0, 0.0, 0.0, ...</td>\n",
              "    </tr>\n",
              "  </tbody>\n",
              "</table>\n",
              "<p>2379 rows × 2 columns</p>\n",
              "</div>\n",
              "      <button class=\"colab-df-convert\" onclick=\"convertToInteractive('df-be65390b-8a5c-45f0-8179-6ab345b88cdf')\"\n",
              "              title=\"Convert this dataframe to an interactive table.\"\n",
              "              style=\"display:none;\">\n",
              "        \n",
              "  <svg xmlns=\"http://www.w3.org/2000/svg\" height=\"24px\"viewBox=\"0 0 24 24\"\n",
              "       width=\"24px\">\n",
              "    <path d=\"M0 0h24v24H0V0z\" fill=\"none\"/>\n",
              "    <path d=\"M18.56 5.44l.94 2.06.94-2.06 2.06-.94-2.06-.94-.94-2.06-.94 2.06-2.06.94zm-11 1L8.5 8.5l.94-2.06 2.06-.94-2.06-.94L8.5 2.5l-.94 2.06-2.06.94zm10 10l.94 2.06.94-2.06 2.06-.94-2.06-.94-.94-2.06-.94 2.06-2.06.94z\"/><path d=\"M17.41 7.96l-1.37-1.37c-.4-.4-.92-.59-1.43-.59-.52 0-1.04.2-1.43.59L10.3 9.45l-7.72 7.72c-.78.78-.78 2.05 0 2.83L4 21.41c.39.39.9.59 1.41.59.51 0 1.02-.2 1.41-.59l7.78-7.78 2.81-2.81c.8-.78.8-2.07 0-2.86zM5.41 20L4 18.59l7.72-7.72 1.47 1.35L5.41 20z\"/>\n",
              "  </svg>\n",
              "      </button>\n",
              "      \n",
              "  <style>\n",
              "    .colab-df-container {\n",
              "      display:flex;\n",
              "      flex-wrap:wrap;\n",
              "      gap: 12px;\n",
              "    }\n",
              "\n",
              "    .colab-df-convert {\n",
              "      background-color: #E8F0FE;\n",
              "      border: none;\n",
              "      border-radius: 50%;\n",
              "      cursor: pointer;\n",
              "      display: none;\n",
              "      fill: #1967D2;\n",
              "      height: 32px;\n",
              "      padding: 0 0 0 0;\n",
              "      width: 32px;\n",
              "    }\n",
              "\n",
              "    .colab-df-convert:hover {\n",
              "      background-color: #E2EBFA;\n",
              "      box-shadow: 0px 1px 2px rgba(60, 64, 67, 0.3), 0px 1px 3px 1px rgba(60, 64, 67, 0.15);\n",
              "      fill: #174EA6;\n",
              "    }\n",
              "\n",
              "    [theme=dark] .colab-df-convert {\n",
              "      background-color: #3B4455;\n",
              "      fill: #D2E3FC;\n",
              "    }\n",
              "\n",
              "    [theme=dark] .colab-df-convert:hover {\n",
              "      background-color: #434B5C;\n",
              "      box-shadow: 0px 1px 3px 1px rgba(0, 0, 0, 0.15);\n",
              "      filter: drop-shadow(0px 1px 2px rgba(0, 0, 0, 0.3));\n",
              "      fill: #FFFFFF;\n",
              "    }\n",
              "  </style>\n",
              "\n",
              "      <script>\n",
              "        const buttonEl =\n",
              "          document.querySelector('#df-be65390b-8a5c-45f0-8179-6ab345b88cdf button.colab-df-convert');\n",
              "        buttonEl.style.display =\n",
              "          google.colab.kernel.accessAllowed ? 'block' : 'none';\n",
              "\n",
              "        async function convertToInteractive(key) {\n",
              "          const element = document.querySelector('#df-be65390b-8a5c-45f0-8179-6ab345b88cdf');\n",
              "          const dataTable =\n",
              "            await google.colab.kernel.invokeFunction('convertToInteractive',\n",
              "                                                     [key], {});\n",
              "          if (!dataTable) return;\n",
              "\n",
              "          const docLinkHtml = 'Like what you see? Visit the ' +\n",
              "            '<a target=\"_blank\" href=https://colab.research.google.com/notebooks/data_table.ipynb>data table notebook</a>'\n",
              "            + ' to learn more about interactive tables.';\n",
              "          element.innerHTML = '';\n",
              "          dataTable['output_type'] = 'display_data';\n",
              "          await google.colab.output.renderOutput(dataTable, element);\n",
              "          const docLink = document.createElement('div');\n",
              "          docLink.innerHTML = docLinkHtml;\n",
              "          element.appendChild(docLink);\n",
              "        }\n",
              "      </script>\n",
              "    </div>\n",
              "  </div>\n",
              "  "
            ]
          },
          "metadata": {},
          "execution_count": 27
        }
      ],
      "source": [
        "test_data.toPandas()"
      ]
    },
    {
      "cell_type": "code",
      "execution_count": 28,
      "id": "e0625cec",
      "metadata": {
        "id": "e0625cec"
      },
      "outputs": [],
      "source": [
        "from pyspark.ml.classification import LogisticRegression\n",
        "lr = LogisticRegression(predictionCol = 'prediction', labelCol = 'label', maxIter = 10)\n",
        "# lr = LogisticRegression(featurescol = 'features', labelcol = 'label', maxIter = 5)"
      ]
    },
    {
      "cell_type": "code",
      "execution_count": 29,
      "id": "23ec2f7b",
      "metadata": {
        "id": "23ec2f7b"
      },
      "outputs": [],
      "source": [
        "lrModel = lr.fit(training_data)"
      ]
    },
    {
      "cell_type": "code",
      "execution_count": 30,
      "id": "ac0fc8f4",
      "metadata": {
        "id": "ac0fc8f4"
      },
      "outputs": [],
      "source": [
        "predictions = lrModel.transform(test_data)\n",
        "results = predictions.select(['prediction', 'label'])"
      ]
    },
    {
      "cell_type": "code",
      "execution_count": 31,
      "id": "b30db1b3",
      "metadata": {
        "colab": {
          "base_uri": "https://localhost:8080/"
        },
        "id": "b30db1b3",
        "outputId": "4a7d4391-3eb1-4fc8-bc16-1b7780f90d35"
      },
      "outputs": [
        {
          "output_type": "stream",
          "name": "stdout",
          "text": [
            "+----------+-----+\n",
            "|prediction|label|\n",
            "+----------+-----+\n",
            "|       0.0|    0|\n",
            "|       0.0|    0|\n",
            "|       0.0|    0|\n",
            "|       0.0|    0|\n",
            "|       0.0|    0|\n",
            "|       0.0|    0|\n",
            "|       0.0|    0|\n",
            "|       0.0|    0|\n",
            "|       0.0|    0|\n",
            "|       0.0|    0|\n",
            "|       0.0|    0|\n",
            "|       0.0|    0|\n",
            "|       0.0|    0|\n",
            "|       0.0|    0|\n",
            "|       0.0|    0|\n",
            "|       7.0|    0|\n",
            "|       0.0|    0|\n",
            "|       0.0|    0|\n",
            "|       2.0|    0|\n",
            "|       0.0|    0|\n",
            "+----------+-----+\n",
            "only showing top 20 rows\n",
            "\n"
          ]
        }
      ],
      "source": [
        "results.show()"
      ]
    },
    {
      "cell_type": "code",
      "execution_count": 32,
      "id": "41bbdf50",
      "metadata": {
        "id": "41bbdf50"
      },
      "outputs": [],
      "source": [
        "from pyspark.ml.evaluation import BinaryClassificationEvaluator, MulticlassClassificationEvaluator\n",
        "\n",
        "from pyspark.ml.linalg import Vectors\n",
        "\n",
        "from pyspark.ml.tuning import  ParamGridBuilder, CrossValidatorModel, CrossValidator\n",
        "\n",
        "import tempfile\n",
        "\n",
        "grid = ParamGridBuilder().addGrid(lr.maxIter, [0, 1]).build()"
      ]
    },
    {
      "cell_type": "code",
      "execution_count": 33,
      "id": "4d664577",
      "metadata": {
        "colab": {
          "base_uri": "https://localhost:8080/"
        },
        "id": "4d664577",
        "outputId": "6d2b6ecd-21a2-47fc-f36b-ba60bcbf13cd"
      },
      "outputs": [
        {
          "output_type": "execute_result",
          "data": {
            "text/plain": [
              "Param(parent='LogisticRegression_6a1259785ad3', name='regParam', doc='regularization parameter (>= 0).')"
            ]
          },
          "metadata": {},
          "execution_count": 33
        }
      ],
      "source": [
        "lr.regParam"
      ]
    },
    {
      "cell_type": "code",
      "execution_count": 34,
      "id": "3fe55523",
      "metadata": {
        "id": "3fe55523"
      },
      "outputs": [],
      "source": [
        "lr = LogisticRegression(predictionCol = 'prediction', labelCol = 'label', maxIter = 10)\n",
        "paramGrid = ParamGridBuilder().addGrid(cv.vocabSize, [10, 100, 1000]).addGrid(lr.regParam, [0.1, 0.01]).build()\n",
        "my_evaluator = MulticlassClassificationEvaluator(labelCol = 'label', predictionCol = 'prediction')\n",
        "\n",
        "cval = CrossValidator(estimator=lr, evaluator=my_evaluator, estimatorParamMaps=paramGrid, \n",
        "                    numFolds=2)\n",
        "\n",
        "\n",
        "cvModel = cval.fit(training_data)"
      ]
    },
    {
      "cell_type": "code",
      "execution_count": 35,
      "id": "d4fc26cb",
      "metadata": {
        "scrolled": true,
        "colab": {
          "base_uri": "https://localhost:8080/"
        },
        "id": "d4fc26cb",
        "outputId": "5d75ef4a-63fd-424f-e6f4-f92f59a0a601"
      },
      "outputs": [
        {
          "output_type": "stream",
          "name": "stdout",
          "text": [
            "+-----+--------------------+----------+\n",
            "|label|         probability|prediction|\n",
            "+-----+--------------------+----------+\n",
            "|    0|[0.44856234438250...|       0.0|\n",
            "|    0|[0.44856234438250...|       0.0|\n",
            "|    0|[0.44856234438250...|       0.0|\n",
            "|    0|[0.44856234438250...|       0.0|\n",
            "|    0|[0.44856234438250...|       0.0|\n",
            "|    0|[0.44856234438250...|       0.0|\n",
            "|    0|[0.44856234438250...|       0.0|\n",
            "|    0|[0.44856234438250...|       0.0|\n",
            "|    0|[0.44856234438250...|       0.0|\n",
            "|    0|[0.44856234438250...|       0.0|\n",
            "|    0|[0.44856234438250...|       0.0|\n",
            "|    0|[0.44856234438250...|       0.0|\n",
            "|    0|[0.44856234438250...|       0.0|\n",
            "|    0|[0.44856234438250...|       0.0|\n",
            "|    0|[0.82701227698072...|       0.0|\n",
            "|    0|[0.36079267110899...|       0.0|\n",
            "|    0|[0.59301482156807...|       0.0|\n",
            "|    0|[0.95885459643101...|       0.0|\n",
            "|    0|[0.30342387334485...|       2.0|\n",
            "|    0|[0.91481959298901...|       0.0|\n",
            "+-----+--------------------+----------+\n",
            "only showing top 20 rows\n",
            "\n"
          ]
        }
      ],
      "source": [
        "newPrediction = cvModel.transform(test_data)\n",
        "newPredicted = newPrediction.select(\"label\", \"probability\", \"prediction\")\n",
        "newPredicted.show()"
      ]
    },
    {
      "cell_type": "code",
      "execution_count": 36,
      "id": "15cbba65",
      "metadata": {
        "scrolled": true,
        "colab": {
          "base_uri": "https://localhost:8080/"
        },
        "id": "15cbba65",
        "outputId": "2da9a39e-c9b9-49d2-aadb-5b1470294022"
      },
      "outputs": [
        {
          "output_type": "stream",
          "name": "stdout",
          "text": [
            "+---------+------------------+\n",
            "|   metric|             value|\n",
            "+---------+------------------+\n",
            "|       TP|             244.0|\n",
            "|       FP|              78.0|\n",
            "|       TN|             596.0|\n",
            "|       FN|             120.0|\n",
            "|Precision|0.7577639751552795|\n",
            "|   Recall|0.6703296703296703|\n",
            "| accuracy|0.8092485549132948|\n",
            "|       F1|0.7113702623906705|\n",
            "+---------+------------------+\n",
            "\n"
          ]
        }
      ],
      "source": [
        "tp = float(newPrediction.filter(\"prediction == 1.0 AND label == 1\").count())\n",
        "fp = float(newPrediction.filter(\"prediction == 1.0 AND label == 0\").count())\n",
        "tn = float(newPrediction.filter(\"prediction == 0.0 AND label == 0\").count())\n",
        "fn = float(newPrediction.filter(\"prediction == 0.0 AND label == 1\").count())\n",
        "pr = tp / (tp + fp)\n",
        "re = tp / (tp + fn)\n",
        "ac = (tp+tn)/(tp + tn + fn + fp)\n",
        "metrics = spark.createDataFrame([\n",
        " (\"TP\", tp),\n",
        " (\"FP\", fp),\n",
        " (\"TN\", tn),\n",
        " (\"FN\", fn),\n",
        " (\"Precision\", pr),\n",
        " (\"Recall\", re),\n",
        " (\"accuracy\", ac),\n",
        " (\"F1\", 2*pr*re/(re+pr))],[\"metric\", \"value\"])\n",
        "metrics.show()"
      ]
    },
    {
      "cell_type": "code",
      "execution_count": 37,
      "id": "baac91da",
      "metadata": {
        "colab": {
          "base_uri": "https://localhost:8080/"
        },
        "id": "baac91da",
        "outputId": "4c7dc081-305c-424e-9713-c500119890f5"
      },
      "outputs": [
        {
          "output_type": "stream",
          "name": "stdout",
          "text": [
            "time(s):  443.8780872821808\n"
          ]
        }
      ],
      "source": [
        "toc = time.time()\n",
        "print(\"time(s): \", ((toc-tic)))"
      ]
    }
  ],
  "metadata": {
    "kernelspec": {
      "display_name": "Python 3 (ipykernel)",
      "language": "python",
      "name": "python3"
    },
    "language_info": {
      "codemirror_mode": {
        "name": "ipython",
        "version": 3
      },
      "file_extension": ".py",
      "mimetype": "text/x-python",
      "name": "python",
      "nbconvert_exporter": "python",
      "pygments_lexer": "ipython3",
      "version": "3.9.6"
    },
    "colab": {
      "provenance": []
    }
  },
  "nbformat": 4,
  "nbformat_minor": 5
}