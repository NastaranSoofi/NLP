{
  "nbformat": 4,
  "nbformat_minor": 0,
  "metadata": {
    "colab": {
      "provenance": []
    },
    "kernelspec": {
      "name": "python3",
      "display_name": "Python 3"
    },
    "language_info": {
      "name": "python"
    }
  },
  "cells": [
    {
      "cell_type": "code",
      "execution_count": 1,
      "metadata": {
        "colab": {
          "base_uri": "https://localhost:8080/"
        },
        "id": "4rYAjr0GR3Wp",
        "outputId": "f04fb577-fd40-4218-cb4e-f5ef1e83cb59"
      },
      "outputs": [
        {
          "output_type": "stream",
          "name": "stdout",
          "text": [
            "Drive already mounted at /content/drive; to attempt to forcibly remount, call drive.mount(\"/content/drive\", force_remount=True).\n"
          ]
        }
      ],
      "source": [
        "from google.colab import drive\n",
        "drive.mount('/content/drive')"
      ]
    },
    {
      "cell_type": "code",
      "source": [
        "!pip install hazm"
      ],
      "metadata": {
        "colab": {
          "base_uri": "https://localhost:8080/"
        },
        "id": "nKxq6jP0Szb6",
        "outputId": "0546d3c3-204a-4173-b23f-5f23c1494e5f"
      },
      "execution_count": 2,
      "outputs": [
        {
          "output_type": "stream",
          "name": "stdout",
          "text": [
            "Looking in indexes: https://pypi.org/simple, https://us-python.pkg.dev/colab-wheels/public/simple/\n",
            "Requirement already satisfied: hazm in /usr/local/lib/python3.8/dist-packages (0.7.0)\n",
            "Requirement already satisfied: nltk==3.3 in /usr/local/lib/python3.8/dist-packages (from hazm) (3.3)\n",
            "Requirement already satisfied: libwapiti>=0.2.1 in /usr/local/lib/python3.8/dist-packages (from hazm) (0.2.1)\n",
            "Requirement already satisfied: six in /usr/local/lib/python3.8/dist-packages (from nltk==3.3->hazm) (1.15.0)\n"
          ]
        }
      ]
    },
    {
      "cell_type": "code",
      "source": [
        "from __future__ import unicode_literals\n",
        "from hazm import *\n",
        "import time\n",
        "import numpy as np\n",
        "import pandas as pd\n",
        "import matplotlib.pyplot as plt\n",
        "import matplotlib as mpl\n",
        "import math\n",
        "from operator import itemgetter"
      ],
      "metadata": {
        "id": "DQ75azmmSk51"
      },
      "execution_count": 3,
      "outputs": []
    },
    {
      "cell_type": "code",
      "source": [
        "test_filename = '/content/drive/My Drive/AI/books_test.csv'\n",
        "test_data = pd.read_csv(test_filename)\n",
        "train_filename = '/content/drive/My Drive/AI/books_train.csv'\n",
        "train_data = pd.read_csv(train_filename)\n",
        "train_data.describe()"
      ],
      "metadata": {
        "colab": {
          "base_uri": "https://localhost:8080/",
          "height": 175
        },
        "id": "wzYHR77SSmfO",
        "outputId": "552320b6-b561-4545-b739-6ac3f0b60085"
      },
      "execution_count": 4,
      "outputs": [
        {
          "output_type": "execute_result",
          "data": {
            "text/plain": [
              "           title                                        description  \\\n",
              "count       2550                                               2550   \n",
              "unique      2502                                               2535   \n",
              "top     اثر مرکب  هر انقلابی بر پایه‌ای ایستاده و رو به مقصدی دا...   \n",
              "freq           3                                                  3   \n",
              "\n",
              "         categories  \n",
              "count          2550  \n",
              "unique            6  \n",
              "top     جامعه‌شناسی  \n",
              "freq            425  "
            ],
            "text/html": [
              "\n",
              "  <div id=\"df-97555d6c-21d5-4683-9c48-e3af33f25830\">\n",
              "    <div class=\"colab-df-container\">\n",
              "      <div>\n",
              "<style scoped>\n",
              "    .dataframe tbody tr th:only-of-type {\n",
              "        vertical-align: middle;\n",
              "    }\n",
              "\n",
              "    .dataframe tbody tr th {\n",
              "        vertical-align: top;\n",
              "    }\n",
              "\n",
              "    .dataframe thead th {\n",
              "        text-align: right;\n",
              "    }\n",
              "</style>\n",
              "<table border=\"1\" class=\"dataframe\">\n",
              "  <thead>\n",
              "    <tr style=\"text-align: right;\">\n",
              "      <th></th>\n",
              "      <th>title</th>\n",
              "      <th>description</th>\n",
              "      <th>categories</th>\n",
              "    </tr>\n",
              "  </thead>\n",
              "  <tbody>\n",
              "    <tr>\n",
              "      <th>count</th>\n",
              "      <td>2550</td>\n",
              "      <td>2550</td>\n",
              "      <td>2550</td>\n",
              "    </tr>\n",
              "    <tr>\n",
              "      <th>unique</th>\n",
              "      <td>2502</td>\n",
              "      <td>2535</td>\n",
              "      <td>6</td>\n",
              "    </tr>\n",
              "    <tr>\n",
              "      <th>top</th>\n",
              "      <td>اثر مرکب</td>\n",
              "      <td>هر انقلابی بر پایه‌ای ایستاده و رو به مقصدی دا...</td>\n",
              "      <td>جامعه‌شناسی</td>\n",
              "    </tr>\n",
              "    <tr>\n",
              "      <th>freq</th>\n",
              "      <td>3</td>\n",
              "      <td>3</td>\n",
              "      <td>425</td>\n",
              "    </tr>\n",
              "  </tbody>\n",
              "</table>\n",
              "</div>\n",
              "      <button class=\"colab-df-convert\" onclick=\"convertToInteractive('df-97555d6c-21d5-4683-9c48-e3af33f25830')\"\n",
              "              title=\"Convert this dataframe to an interactive table.\"\n",
              "              style=\"display:none;\">\n",
              "        \n",
              "  <svg xmlns=\"http://www.w3.org/2000/svg\" height=\"24px\"viewBox=\"0 0 24 24\"\n",
              "       width=\"24px\">\n",
              "    <path d=\"M0 0h24v24H0V0z\" fill=\"none\"/>\n",
              "    <path d=\"M18.56 5.44l.94 2.06.94-2.06 2.06-.94-2.06-.94-.94-2.06-.94 2.06-2.06.94zm-11 1L8.5 8.5l.94-2.06 2.06-.94-2.06-.94L8.5 2.5l-.94 2.06-2.06.94zm10 10l.94 2.06.94-2.06 2.06-.94-2.06-.94-.94-2.06-.94 2.06-2.06.94z\"/><path d=\"M17.41 7.96l-1.37-1.37c-.4-.4-.92-.59-1.43-.59-.52 0-1.04.2-1.43.59L10.3 9.45l-7.72 7.72c-.78.78-.78 2.05 0 2.83L4 21.41c.39.39.9.59 1.41.59.51 0 1.02-.2 1.41-.59l7.78-7.78 2.81-2.81c.8-.78.8-2.07 0-2.86zM5.41 20L4 18.59l7.72-7.72 1.47 1.35L5.41 20z\"/>\n",
              "  </svg>\n",
              "      </button>\n",
              "      \n",
              "  <style>\n",
              "    .colab-df-container {\n",
              "      display:flex;\n",
              "      flex-wrap:wrap;\n",
              "      gap: 12px;\n",
              "    }\n",
              "\n",
              "    .colab-df-convert {\n",
              "      background-color: #E8F0FE;\n",
              "      border: none;\n",
              "      border-radius: 50%;\n",
              "      cursor: pointer;\n",
              "      display: none;\n",
              "      fill: #1967D2;\n",
              "      height: 32px;\n",
              "      padding: 0 0 0 0;\n",
              "      width: 32px;\n",
              "    }\n",
              "\n",
              "    .colab-df-convert:hover {\n",
              "      background-color: #E2EBFA;\n",
              "      box-shadow: 0px 1px 2px rgba(60, 64, 67, 0.3), 0px 1px 3px 1px rgba(60, 64, 67, 0.15);\n",
              "      fill: #174EA6;\n",
              "    }\n",
              "\n",
              "    [theme=dark] .colab-df-convert {\n",
              "      background-color: #3B4455;\n",
              "      fill: #D2E3FC;\n",
              "    }\n",
              "\n",
              "    [theme=dark] .colab-df-convert:hover {\n",
              "      background-color: #434B5C;\n",
              "      box-shadow: 0px 1px 3px 1px rgba(0, 0, 0, 0.15);\n",
              "      filter: drop-shadow(0px 1px 2px rgba(0, 0, 0, 0.3));\n",
              "      fill: #FFFFFF;\n",
              "    }\n",
              "  </style>\n",
              "\n",
              "      <script>\n",
              "        const buttonEl =\n",
              "          document.querySelector('#df-97555d6c-21d5-4683-9c48-e3af33f25830 button.colab-df-convert');\n",
              "        buttonEl.style.display =\n",
              "          google.colab.kernel.accessAllowed ? 'block' : 'none';\n",
              "\n",
              "        async function convertToInteractive(key) {\n",
              "          const element = document.querySelector('#df-97555d6c-21d5-4683-9c48-e3af33f25830');\n",
              "          const dataTable =\n",
              "            await google.colab.kernel.invokeFunction('convertToInteractive',\n",
              "                                                     [key], {});\n",
              "          if (!dataTable) return;\n",
              "\n",
              "          const docLinkHtml = 'Like what you see? Visit the ' +\n",
              "            '<a target=\"_blank\" href=https://colab.research.google.com/notebooks/data_table.ipynb>data table notebook</a>'\n",
              "            + ' to learn more about interactive tables.';\n",
              "          element.innerHTML = '';\n",
              "          dataTable['output_type'] = 'display_data';\n",
              "          await google.colab.output.renderOutput(dataTable, element);\n",
              "          const docLink = document.createElement('div');\n",
              "          docLink.innerHTML = docLinkHtml;\n",
              "          element.appendChild(docLink);\n",
              "        }\n",
              "      </script>\n",
              "    </div>\n",
              "  </div>\n",
              "  "
            ]
          },
          "metadata": {},
          "execution_count": 4
        }
      ]
    },
    {
      "cell_type": "code",
      "source": [
        "titles=[word.lower() for word in test_data]\n",
        "titles"
      ],
      "metadata": {
        "colab": {
          "base_uri": "https://localhost:8080/"
        },
        "id": "DcfunwPbTMdB",
        "outputId": "c6219125-3901-48d6-eeaf-4c595dffad11"
      },
      "execution_count": 5,
      "outputs": [
        {
          "output_type": "execute_result",
          "data": {
            "text/plain": [
              "['title', 'description', 'categories']"
            ]
          },
          "metadata": {},
          "execution_count": 5
        }
      ]
    },
    {
      "cell_type": "code",
      "source": [
        "normalizer = Normalizer()\n",
        "stemmer = Stemmer()\n",
        "lemmatizer = Lemmatizer()\n",
        "stopwords = stopwords_list()\n",
        "stopwords.extend( ['.',',','«','»','(',')','،','[',']','{','}','-','','؛', '\\n','\\r'])"
      ],
      "metadata": {
        "id": "A1uJIHZRTUze"
      },
      "execution_count": 6,
      "outputs": []
    },
    {
      "cell_type": "code",
      "source": [
        "\n",
        "#remove stop words\n",
        "words_class_dict = {} # { word : [number of first class, 2, 3, 4, 5,6]}\n",
        "des = 'description'\n",
        "cat = 'categories'\n",
        "all_categories = []\n",
        "cat_words_dict = {} # { category1:{word1:number, word2: 5, word3: 2, ..} , category2:..  }\n",
        "for index,row in train_data.iterrows():\n",
        "    normal_str = normalizer.normalize(row['title']+row[des])\n",
        "    text = word_tokenize(normal_str)\n",
        "    # text = (normal_str).split(\" \")\n",
        "    for word in text:\n",
        "        word = stemmer.stem(word)\n",
        "        word = lemmatizer.lemmatize(word)\n",
        "        if word not in stopwords:\n",
        "            temp_list = [1,1,1,1,1,1]\n",
        "            # temp_list = [0,0,0,0,0,0]\n",
        "            if train_data.at[index,cat] in all_categories:\n",
        "                for category in range(len(all_categories)):\n",
        "                    if train_data.at[index,cat] == all_categories[category]:\n",
        "                        if category in cat_words_dict.keys():\n",
        "                            if word not in cat_words_dict[category].keys():\n",
        "                                cat_words_dict[category][word] = 1\n",
        "                            else:\n",
        "                                cat_words_dict[category][word] = cat_words_dict[category][word]+1\n",
        "                        else:\n",
        "                            cat_words_dict[category] = {word:1}\n",
        "                        if word in words_class_dict.keys():\n",
        "                            temp_list = words_class_dict[word]\n",
        "                        temp_list[category] = temp_list[category]+1\n",
        "                        words_class_dict[word] = temp_list\n",
        "            elif train_data.at[index,cat] not in all_categories:\n",
        "                category = train_data.at[index,cat]\n",
        "                if category in cat_words_dict.keys():\n",
        "                    if word not in cat_words_dict[category].keys():\n",
        "                        cat_words_dict[category][word] = 1\n",
        "                    else:\n",
        "                        cat_words_dict[category][word] = cat_words_dict[category][word]+1\n",
        "                else:\n",
        "                    cat_words_dict[category] = {word:1}\n",
        "                    # cat_words_dict[category].update(word)\n",
        "                all_categories.append(train_data.at[index,cat])\n",
        "                if word in words_class_dict.keys():\n",
        "                    temp_list = words_class_dict[word]\n",
        "                temp_list[len(all_categories)-1] = temp_list[len(all_categories)-1]+1\n",
        "                words_class_dict[word] = temp_list\n"
      ],
      "metadata": {
        "id": "Ncb_TEzbSN0X"
      },
      "execution_count": 7,
      "outputs": []
    },
    {
      "cell_type": "code",
      "source": [
        "word_category_prob = {}\n",
        "for word in words_class_dict.keys():\n",
        "    temp_list = words_class_dict[word]\n",
        "    count = 0\n",
        "    for i in range(6):\n",
        "        count += temp_list[i]\n",
        "    prob = [0,0,0,0,0,0]\n",
        "    for i in range(6):\n",
        "        prob[i] = temp_list[i]/count\n",
        "    word_category_prob[word] = prob"
      ],
      "metadata": {
        "id": "ZRRCiq0cTanM"
      },
      "execution_count": 8,
      "outputs": []
    },
    {
      "cell_type": "code",
      "source": [
        "# P(Class1 | text) = P(word1| class1) x P(word2| class1)x ... xP(class1)\n",
        "text_category_prob = {}\n",
        "for index,row in test_data.iterrows():\n",
        "    normal_str = normalizer.normalize(row['title']+row[des])\n",
        "    text = (normal_str).split(\" \")\n",
        "    text_class_prob = [0,0,0,0,0,0]\n",
        "    for class_num in range(6):\n",
        "        cond_prob = 1\n",
        "        for word in text:\n",
        "            if word not in stopwords:\n",
        "                if word[len(word)-1] in stopwords:\n",
        "                    word = word[:len(word)-2]\n",
        "                elif word[0] in stopwords:\n",
        "                    word = word[1:]\n",
        "                if word in word_category_prob.keys():\n",
        "                    temp_word_prob = word_category_prob[word][class_num]\n",
        "                    if temp_word_prob >0:\n",
        "                        cond_prob = cond_prob + math.log(temp_word_prob)\n",
        "        text_class_prob[class_num] = cond_prob + math.log(1/6)\n",
        "    text_category_prob[index] = text_class_prob"
      ],
      "metadata": {
        "id": "mVlcQyryTlBl"
      },
      "execution_count": 9,
      "outputs": []
    },
    {
      "cell_type": "code",
      "source": [
        "text_category_dict = {}\n",
        "num_of_detections = [0,0,0,0,0,0]\n",
        "for t in text_category_prob.keys():\n",
        "    temp_list = text_category_prob[t]\n",
        "    final_category = \"\"\n",
        "    max_prob = -1000\n",
        "    for i in range(6):\n",
        "        if max_prob < temp_list[i]:\n",
        "            text_category_dict[t] = all_categories[i]\n",
        "            max_prob = temp_list[i]\n",
        "for t in text_category_dict.keys():\n",
        "    for i in range(6):\n",
        "        if text_category_dict[t] == all_categories[i]:\n",
        "            num_of_detections[i] = num_of_detections[i]+1        \n",
        "print(num_of_detections)\n",
        "print(text_category_dict)   "
      ],
      "metadata": {
        "colab": {
          "base_uri": "https://localhost:8080/"
        },
        "id": "ogmBcEfTT2dc",
        "outputId": "bdfad993-cae6-4870-d3b3-46e0c8b0b365"
      },
      "execution_count": 10,
      "outputs": [
        {
          "output_type": "stream",
          "name": "stdout",
          "text": [
            "[96, 55, 23, 33, 68, 175]\n",
            "{0: 'رمان', 1: 'داستان کوتاه', 2: 'کلیات اسلام', 3: 'رمان', 4: 'داستان کوتاه', 5: 'جامعه\\u200cشناسی', 6: 'کلیات اسلام', 7: 'رمان', 8: 'جامعه\\u200cشناسی', 9: 'کلیات اسلام', 10: 'مدیریت و کسب و کار', 11: 'مدیریت و کسب و کار', 12: 'رمان', 13: 'رمان', 14: 'رمان', 15: 'رمان', 16: 'رمان', 17: 'مدیریت و کسب و کار', 18: 'رمان', 19: 'مدیریت و کسب و کار', 20: 'رمان', 21: 'مدیریت و کسب و کار', 22: 'مدیریت و کسب و کار', 23: 'جامعه\\u200cشناسی', 24: 'داستان کودک و نوجوانان', 25: 'رمان', 26: 'داستان کودک و نوجوانان', 27: 'رمان', 28: 'داستان کودک و نوجوانان', 29: 'رمان', 30: 'مدیریت و کسب و کار', 31: 'رمان', 32: 'کلیات اسلام', 33: 'رمان', 34: 'جامعه\\u200cشناسی', 35: 'کلیات اسلام', 36: 'مدیریت و کسب و کار', 37: 'داستان کوتاه', 38: 'جامعه\\u200cشناسی', 39: 'مدیریت و کسب و کار', 40: 'رمان', 41: 'رمان', 42: 'رمان', 43: 'جامعه\\u200cشناسی', 44: 'مدیریت و کسب و کار', 45: 'رمان', 46: 'رمان', 47: 'رمان', 48: 'رمان', 49: 'مدیریت و کسب و کار', 50: 'جامعه\\u200cشناسی', 51: 'جامعه\\u200cشناسی', 52: 'مدیریت و کسب و کار', 53: 'رمان', 54: 'جامعه\\u200cشناسی', 55: 'رمان', 56: 'جامعه\\u200cشناسی', 57: 'جامعه\\u200cشناسی', 58: 'جامعه\\u200cشناسی', 59: 'مدیریت و کسب و کار', 60: 'رمان', 61: 'رمان', 62: 'کلیات اسلام', 63: 'رمان', 64: 'مدیریت و کسب و کار', 65: 'مدیریت و کسب و کار', 66: 'کلیات اسلام', 67: 'داستان کوتاه', 68: 'جامعه\\u200cشناسی', 69: 'رمان', 70: 'رمان', 71: 'کلیات اسلام', 72: 'جامعه\\u200cشناسی', 73: 'کلیات اسلام', 74: 'جامعه\\u200cشناسی', 75: 'رمان', 76: 'رمان', 77: 'جامعه\\u200cشناسی', 78: 'رمان', 79: 'جامعه\\u200cشناسی', 80: 'رمان', 81: 'رمان', 82: 'جامعه\\u200cشناسی', 83: 'رمان', 84: 'داستان کودک و نوجوانان', 85: 'رمان', 86: 'داستان کوتاه', 87: 'رمان', 88: 'رمان', 89: 'جامعه\\u200cشناسی', 90: 'رمان', 91: 'رمان', 92: 'مدیریت و کسب و کار', 93: 'رمان', 94: 'مدیریت و کسب و کار', 95: 'رمان', 96: 'داستان کودک و نوجوانان', 97: 'رمان', 98: 'مدیریت و کسب و کار', 99: 'جامعه\\u200cشناسی', 100: 'داستان کوتاه', 101: 'کلیات اسلام', 102: 'رمان', 103: 'جامعه\\u200cشناسی', 104: 'مدیریت و کسب و کار', 105: 'کلیات اسلام', 106: 'کلیات اسلام', 107: 'رمان', 108: 'مدیریت و کسب و کار', 109: 'مدیریت و کسب و کار', 110: 'مدیریت و کسب و کار', 111: 'داستان کوتاه', 112: 'رمان', 113: 'رمان', 114: 'رمان', 115: 'مدیریت و کسب و کار', 116: 'رمان', 117: 'رمان', 118: 'جامعه\\u200cشناسی', 119: 'کلیات اسلام', 120: 'داستان کودک و نوجوانان', 121: 'کلیات اسلام', 122: 'داستان کوتاه', 123: 'رمان', 124: 'رمان', 125: 'رمان', 126: 'رمان', 127: 'رمان', 128: 'رمان', 129: 'کلیات اسلام', 130: 'کلیات اسلام', 131: 'جامعه\\u200cشناسی', 132: 'داستان کوتاه', 133: 'مدیریت و کسب و کار', 134: 'داستان کوتاه', 135: 'رمان', 136: 'جامعه\\u200cشناسی', 137: 'جامعه\\u200cشناسی', 138: 'مدیریت و کسب و کار', 139: 'رمان', 140: 'داستان کودک و نوجوانان', 141: 'رمان', 142: 'مدیریت و کسب و کار', 143: 'رمان', 144: 'جامعه\\u200cشناسی', 145: 'جامعه\\u200cشناسی', 146: 'کلیات اسلام', 147: 'جامعه\\u200cشناسی', 148: 'رمان', 149: 'داستان کوتاه', 150: 'رمان', 151: 'داستان کودک و نوجوانان', 152: 'جامعه\\u200cشناسی', 153: 'جامعه\\u200cشناسی', 154: 'داستان کوتاه', 155: 'کلیات اسلام', 156: 'مدیریت و کسب و کار', 157: 'رمان', 158: 'رمان', 159: 'کلیات اسلام', 160: 'رمان', 161: 'جامعه\\u200cشناسی', 162: 'داستان کوتاه', 163: 'جامعه\\u200cشناسی', 164: 'رمان', 165: 'داستان کوتاه', 166: 'جامعه\\u200cشناسی', 167: 'کلیات اسلام', 168: 'رمان', 169: 'رمان', 170: 'کلیات اسلام', 171: 'رمان', 172: 'رمان', 173: 'کلیات اسلام', 174: 'رمان', 175: 'کلیات اسلام', 176: 'رمان', 177: 'رمان', 178: 'رمان', 179: 'رمان', 180: 'رمان', 181: 'رمان', 182: 'رمان', 183: 'رمان', 184: 'مدیریت و کسب و کار', 185: 'مدیریت و کسب و کار', 186: 'جامعه\\u200cشناسی', 187: 'مدیریت و کسب و کار', 188: 'جامعه\\u200cشناسی', 189: 'جامعه\\u200cشناسی', 190: 'رمان', 191: 'جامعه\\u200cشناسی', 192: 'کلیات اسلام', 193: 'رمان', 194: 'رمان', 195: 'مدیریت و کسب و کار', 196: 'جامعه\\u200cشناسی', 197: 'رمان', 198: 'جامعه\\u200cشناسی', 199: 'کلیات اسلام', 200: 'مدیریت و کسب و کار', 201: 'جامعه\\u200cشناسی', 202: 'کلیات اسلام', 203: 'مدیریت و کسب و کار', 204: 'جامعه\\u200cشناسی', 205: 'داستان کوتاه', 206: 'کلیات اسلام', 207: 'رمان', 208: 'رمان', 209: 'داستان کوتاه', 210: 'جامعه\\u200cشناسی', 211: 'داستان کوتاه', 212: 'مدیریت و کسب و کار', 213: 'جامعه\\u200cشناسی', 214: 'کلیات اسلام', 215: 'رمان', 216: 'جامعه\\u200cشناسی', 217: 'رمان', 218: 'رمان', 219: 'داستان کوتاه', 220: 'رمان', 221: 'داستان کوتاه', 222: 'مدیریت و کسب و کار', 223: 'جامعه\\u200cشناسی', 224: 'کلیات اسلام', 225: 'رمان', 226: 'رمان', 227: 'کلیات اسلام', 228: 'کلیات اسلام', 229: 'رمان', 230: 'رمان', 231: 'جامعه\\u200cشناسی', 232: 'رمان', 233: 'داستان کودک و نوجوانان', 234: 'جامعه\\u200cشناسی', 235: 'رمان', 236: 'کلیات اسلام', 237: 'داستان کوتاه', 238: 'رمان', 239: 'جامعه\\u200cشناسی', 240: 'رمان', 241: 'رمان', 242: 'جامعه\\u200cشناسی', 243: 'رمان', 244: 'جامعه\\u200cشناسی', 245: 'رمان', 246: 'کلیات اسلام', 247: 'جامعه\\u200cشناسی', 248: 'جامعه\\u200cشناسی', 249: 'رمان', 250: 'داستان کودک و نوجوانان', 251: 'مدیریت و کسب و کار', 252: 'رمان', 253: 'رمان', 254: 'جامعه\\u200cشناسی', 255: 'مدیریت و کسب و کار', 256: 'رمان', 257: 'کلیات اسلام', 258: 'مدیریت و کسب و کار', 259: 'مدیریت و کسب و کار', 260: 'کلیات اسلام', 261: 'داستان کودک و نوجوانان', 262: 'رمان', 263: 'کلیات اسلام', 264: 'رمان', 265: 'رمان', 266: 'مدیریت و کسب و کار', 267: 'مدیریت و کسب و کار', 268: 'کلیات اسلام', 269: 'جامعه\\u200cشناسی', 270: 'رمان', 271: 'جامعه\\u200cشناسی', 272: 'رمان', 273: 'جامعه\\u200cشناسی', 274: 'مدیریت و کسب و کار', 275: 'رمان', 276: 'رمان', 277: 'جامعه\\u200cشناسی', 278: 'جامعه\\u200cشناسی', 279: 'جامعه\\u200cشناسی', 280: 'مدیریت و کسب و کار', 281: 'جامعه\\u200cشناسی', 282: 'داستان کودک و نوجوانان', 283: 'کلیات اسلام', 284: 'کلیات اسلام', 285: 'جامعه\\u200cشناسی', 286: 'جامعه\\u200cشناسی', 287: 'رمان', 288: 'رمان', 289: 'رمان', 290: 'رمان', 291: 'جامعه\\u200cشناسی', 292: 'داستان کودک و نوجوانان', 293: 'داستان کوتاه', 294: 'رمان', 295: 'داستان کوتاه', 296: 'جامعه\\u200cشناسی', 297: 'رمان', 298: 'جامعه\\u200cشناسی', 299: 'رمان', 300: 'جامعه\\u200cشناسی', 301: 'مدیریت و کسب و کار', 302: 'جامعه\\u200cشناسی', 303: 'کلیات اسلام', 304: 'رمان', 305: 'جامعه\\u200cشناسی', 306: 'جامعه\\u200cشناسی', 307: 'رمان', 308: 'کلیات اسلام', 309: 'رمان', 310: 'رمان', 311: 'رمان', 312: 'جامعه\\u200cشناسی', 313: 'مدیریت و کسب و کار', 314: 'داستان کوتاه', 315: 'جامعه\\u200cشناسی', 316: 'جامعه\\u200cشناسی', 317: 'جامعه\\u200cشناسی', 318: 'داستان کوتاه', 319: 'جامعه\\u200cشناسی', 320: 'داستان کودک و نوجوانان', 321: 'مدیریت و کسب و کار', 322: 'رمان', 323: 'جامعه\\u200cشناسی', 324: 'داستان کودک و نوجوانان', 325: 'کلیات اسلام', 326: 'داستان کودک و نوجوانان', 327: 'جامعه\\u200cشناسی', 328: 'کلیات اسلام', 329: 'داستان کوتاه', 330: 'مدیریت و کسب و کار', 331: 'داستان کودک و نوجوانان', 332: 'رمان', 333: 'جامعه\\u200cشناسی', 334: 'رمان', 335: 'داستان کوتاه', 336: 'رمان', 337: 'رمان', 338: 'جامعه\\u200cشناسی', 339: 'جامعه\\u200cشناسی', 340: 'رمان', 341: 'مدیریت و کسب و کار', 342: 'جامعه\\u200cشناسی', 343: 'رمان', 344: 'مدیریت و کسب و کار', 345: 'داستان کوتاه', 346: 'جامعه\\u200cشناسی', 347: 'رمان', 348: 'مدیریت و کسب و کار', 349: 'مدیریت و کسب و کار', 350: 'مدیریت و کسب و کار', 351: 'رمان', 352: 'رمان', 353: 'جامعه\\u200cشناسی', 354: 'مدیریت و کسب و کار', 355: 'رمان', 356: 'رمان', 357: 'داستان کودک و نوجوانان', 358: 'رمان', 359: 'داستان کوتاه', 360: 'رمان', 361: 'رمان', 362: 'رمان', 363: 'رمان', 364: 'مدیریت و کسب و کار', 365: 'رمان', 366: 'جامعه\\u200cشناسی', 367: 'رمان', 368: 'داستان کودک و نوجوانان', 369: 'رمان', 370: 'داستان کوتاه', 371: 'جامعه\\u200cشناسی', 372: 'کلیات اسلام', 373: 'مدیریت و کسب و کار', 374: 'جامعه\\u200cشناسی', 375: 'مدیریت و کسب و کار', 376: 'رمان', 377: 'رمان', 378: 'رمان', 379: 'مدیریت و کسب و کار', 380: 'جامعه\\u200cشناسی', 381: 'رمان', 382: 'رمان', 383: 'مدیریت و کسب و کار', 384: 'داستان کودک و نوجوانان', 385: 'رمان', 386: 'رمان', 387: 'کلیات اسلام', 388: 'جامعه\\u200cشناسی', 389: 'جامعه\\u200cشناسی', 390: 'کلیات اسلام', 391: 'کلیات اسلام', 392: 'مدیریت و کسب و کار', 393: 'رمان', 394: 'جامعه\\u200cشناسی', 395: 'جامعه\\u200cشناسی', 396: 'رمان', 397: 'رمان', 398: 'رمان', 399: 'رمان', 400: 'رمان', 401: 'داستان کودک و نوجوانان', 402: 'رمان', 403: 'جامعه\\u200cشناسی', 404: 'داستان کوتاه', 405: 'مدیریت و کسب و کار', 406: 'مدیریت و کسب و کار', 407: 'داستان کودک و نوجوانان', 408: 'رمان', 409: 'کلیات اسلام', 410: 'رمان', 411: 'رمان', 412: 'کلیات اسلام', 413: 'رمان', 414: 'داستان کودک و نوجوانان', 415: 'رمان', 416: 'مدیریت و کسب و کار', 417: 'داستان کوتاه', 418: 'کلیات اسلام', 419: 'کلیات اسلام', 420: 'جامعه\\u200cشناسی', 421: 'رمان', 422: 'رمان', 423: 'رمان', 424: 'مدیریت و کسب و کار', 425: 'مدیریت و کسب و کار', 426: 'رمان', 427: 'کلیات اسلام', 428: 'رمان', 429: 'جامعه\\u200cشناسی', 430: 'داستان کوتاه', 431: 'رمان', 432: 'مدیریت و کسب و کار', 433: 'داستان کوتاه', 434: 'رمان', 435: 'رمان', 436: 'رمان', 437: 'رمان', 438: 'رمان', 439: 'مدیریت و کسب و کار', 440: 'کلیات اسلام', 441: 'کلیات اسلام', 442: 'مدیریت و کسب و کار', 443: 'جامعه\\u200cشناسی', 444: 'مدیریت و کسب و کار', 445: 'کلیات اسلام', 446: 'رمان', 447: 'جامعه\\u200cشناسی', 448: 'جامعه\\u200cشناسی', 449: 'رمان'}\n"
          ]
        }
      ]
    },
    {
      "cell_type": "code",
      "source": [
        "correct_detections = [0,0,0,0,0,0]\n",
        "num_of_real = [0,0,0,0,0,0]\n",
        "accuracy = 0\n",
        "correct = 0\n",
        "total = 0\n",
        "wrong_category = []\n",
        "# print(text_category_dict)\n",
        "for index,row in test_data.iterrows():\n",
        "    total += 1\n",
        "    if index in text_category_dict.keys():\n",
        "        if row[cat] == text_category_dict[index]:\n",
        "            correct += 1\n",
        "        else:\n",
        "            wrong_category.append(row['title'])\n",
        "        for i in range(6):\n",
        "            if row[cat] == text_category_dict[index] and row[cat] == all_categories[i]:\n",
        "                correct_detections[i] = correct_detections[i]+1\n",
        "    for i in range(6):\n",
        "        if row[cat] == all_categories[i]:\n",
        "            num_of_real[i] = num_of_real[i]+1"
      ],
      "metadata": {
        "id": "KQLxLzKpUBY4"
      },
      "execution_count": 11,
      "outputs": []
    },
    {
      "cell_type": "code",
      "source": [
        "accuracy = (correct/total)*100\n",
        "precision = [0,0,0,0,0,0] #for each category\n",
        "recall = [0,0,0,0,0,0]\n",
        "F1 = [0,0,0,0,0,0]\n",
        "\n",
        "for i in range(6):\n",
        "    if num_of_detections[i] != 0:\n",
        "        precision[i] = ((correct_detections[i])/num_of_detections[i])*100\n",
        "    if num_of_real[i] != 0:\n",
        "        recall[i] = ((correct_detections[i])/num_of_real[i])*100\n",
        "    if precision[i] !=0 and recall[i]!= 0:\n",
        "        F1[i] = 2*((recall[i]*precision[i])/(recall[i]+precision[i]))\n",
        "\n",
        "macro_F1 = 0\n",
        "for i in range(6):\n",
        "    macro_F1 += F1[i]\n",
        "macro_F1 = macro_F1/6\n",
        "\n",
        "print(accuracy)\n",
        "print(precision)\n",
        "print(recall)"
      ],
      "metadata": {
        "colab": {
          "base_uri": "https://localhost:8080/"
        },
        "id": "NnfkzS5zTc4B",
        "outputId": "ff99ed85-39c4-417c-ba99-fdfe282ccef3"
      },
      "execution_count": 12,
      "outputs": [
        {
          "output_type": "stream",
          "name": "stdout",
          "text": [
            "66.44444444444444\n",
            "[68.75, 89.0909090909091, 95.65217391304348, 69.6969696969697, 95.58823529411765, 42.285714285714285]\n",
            "[88.0, 65.33333333333333, 29.333333333333332, 30.666666666666664, 86.66666666666667, 98.66666666666667]\n"
          ]
        }
      ]
    }
  ]
}
